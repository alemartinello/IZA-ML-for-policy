{
 "cells": [
  {
   "cell_type": "markdown",
   "id": "fabf7215-61df-4728-b7fe-f7b5c74b6ea6",
   "metadata": {
    "tags": []
   },
   "source": [
    "# IZA paper - Empirical example\n",
    "\n",
    "This notebook accompanies the paper ***Add reference***, and provides a guide on how to implement the approaches introduced in the paper in Python.\n",
    "\n",
    "The data used for these examples comes from Lauren Jones and Nicolas Ziebarth, \"[Successful Scientific Replication and Extension of Levitt (2008): Child Seats Are Still No Safer than Seat Belts](https://onlinelibrary.wiley.com/doi/epdf/10.1002/jae.2449)\", *Journal of Applied Econometrics*, Vol. 31, No. 5, 2016, pp. 920-928. The Journal of Applied Econometrics publishes replication data in an easy to use format. The data used in that paper and in this notebook can be downloaded [here](http://qed.econ.queensu.ca/jae/datasets/jones004/). The link also contains a brief description of the variables in the dataset.\n",
    "\n",
    "To be able to run this notebook, make sure that the data is unzipped in the `data/` folder.\n",
    "\n",
    "In this notebook we guide the reader into three main application of machine learning for policy analysis:\n",
    "1. Double Machine Learning (DML, or how to get the most out of your controls)\n",
    "1. Causal Forests (CF, or how to automatically search for systematic heterogeneity in treatment effects)\n",
    "1. Policy Learning (or ...)\n",
    "\n",
    "The next cells imports the necessary modules, some of which are user-written.\n",
    "The key import for policy evaluation with machine learning is [`econml`](https://econml.azurewebsites.net/), a package developed by Microsoft's research team as part of their [Alice](https://www.microsoft.com/en-us/research/group/alice/) initiative. The package implements Double Machine Learning approaches, Causal Forests, Policy Learning, Deep IV etc.\n",
    "\n",
    "With respect to corresponding R packages, `econml` is more oriented at production. As such, it integrates very easily with well-known machine learning suites such as [`scikit-learn`](https://scikit-learn.org/stable/) and [`xgboost`](https://xgboost.readthedocs.io/en/latest/), and can be readily plugged into a ML/data pipeline. However, inference and diagnostic tools are (as of the version used for this notebook - 0.12.0b5) less developed than in the R modules. For example, handling clusters in the python package requires manual manipulation and recoding of standard error procedures. As a consequence, the examples in this notebook gloss overclustered standard error calculations and model diagnostics (some diagnostic tools are nonetheless provided by the user-written `DML_diagnostic` class in `src/dmlutils.py`)."
   ]
  },
  {
   "cell_type": "code",
   "execution_count": 2,
   "id": "067301d8-9729-4ca0-b185-fda3196ec2b1",
   "metadata": {
    "tags": []
   },
   "outputs": [
    {
     "name": "stdout",
     "output_type": "stream",
     "text": [
      "The autoreload extension is already loaded. To reload it, use:\n",
      "  %reload_ext autoreload\n"
     ]
    }
   ],
   "source": [
    "%load_ext autoreload\n",
    "%autoreload 2\n",
    "import pandas as pd\n",
    "import numpy as np\n",
    "import seaborn as sns\n",
    "import matplotlib.pyplot as plt\n",
    "import statsmodels.api as sm\n",
    "\n",
    "from pathlib import Path\n",
    "from sklearn.experimental import enable_hist_gradient_boosting\n",
    "from sklearn.ensemble import HistGradientBoostingClassifier, HistGradientBoostingRegressor\n",
    "from sklearn.metrics import r2_score\n",
    "from sklearn.linear_model import LinearRegression\n",
    "from sklearn.model_selection import KFold\n",
    "#from econml.dml import LinearDML, CausalForestDML\n",
    "from copy import deepcopy\n",
    "from IPython.display import display\n",
    "\n",
    "# User-written utilities - these are under src/ in the GitHub repositories \n",
    "import sys\n",
    "sys.path.append('..')\n",
    "import src.config as cfg\n",
    "import src.features as ft\n",
    "import src.data as sdt\n",
    "from src.dmlutils import DML_diagnostics"
   ]
  },
  {
   "cell_type": "markdown",
   "id": "2db42298-7ab9-4f6b-862e-02fe2d2f5599",
   "metadata": {},
   "source": [
    "The next cell loads the example datasets, and preprocesses them to ensure compatibility with the data used in the Jones and Ziebarth (2016). The two datasets are:\n",
    "* **df_repl**: The full sample dataset, where the relationship between treatment and outcome is not identified (i.e. not causal) \n",
    "* **df_sel**: The selected dataset that, according to the identification strategy of Levitt (2008), makes the assumption of treatment unconfoudedness acceptable. See Levitt (2008) and Jones and Ziebarth (2016) for more details. "
   ]
  },
  {
   "cell_type": "code",
   "execution_count": 3,
   "id": "154cf452-b136-4e94-b782-8d1b62f82a40",
   "metadata": {
    "tags": []
   },
   "outputs": [
    {
     "name": "stdout",
     "output_type": "stream",
     "text": [
      "Number of observations in the data: 38455 (full sample); 10328 (selected/causal sample)\n"
     ]
    }
   ],
   "source": [
    "# Load datasets\n",
    "df_repl = sdt.preprocess_dataframe(pd.read_csv(Path('../data/FARS-data-full-sample.txt'), sep='\\t'))\n",
    "df_sel = sdt.preprocess_dataframe(pd.read_csv(Path('../data/FARS-data-selection-sample.txt'), sep='\\t'))\n",
    "print(f'Number of observations in the data: {df_repl.shape[0]} (full sample); {df_sel.shape[0]} (selected/causal sample)')"
   ]
  },
  {
   "cell_type": "markdown",
   "id": "1e537d8c-b785-4b2f-ab24-22616bd482de",
   "metadata": {},
   "source": [
    "The next cell initiates two object for 1) automated data processing and 2) cross-valiation.\n",
    "\n",
    "The first object is not crucial, but it ensures replicability of data processing. By calling its `fit_transform()` method, categorical controls are turned into dummies consistently. The object is a `sklearn.pipeline.Pipeline`.\n",
    "\n",
    "The second object is crucial for ML approaches, which require estimations out-of-bag. In its simplest form, DML, orthogonalizations are done by fitting a ML model on a random half of the sample to then computing residuals on the other, and viceversa. Initializing the object responsible for these splits with a prespecified random seed is crucial for consistency of results across runs and replicability."
   ]
  },
  {
   "cell_type": "code",
   "execution_count": 4,
   "id": "61ef507e-e6e3-473e-9b8e-759fb9a3ad70",
   "metadata": {},
   "outputs": [],
   "source": [
    "pipe = ft.construct_data_pipeline(pd_output=True)\n",
    "cv_splitter = KFold(2, shuffle=True, random_state=cfg.random_state)"
   ]
  },
  {
   "cell_type": "markdown",
   "id": "b5760a00-8e0e-4eae-9555-e380ab377c46",
   "metadata": {
    "tags": []
   },
   "source": [
    "    ## Double Machine Learning: Or *How to get as much as possible out of your controls*"
   ]
  },
  {
   "cell_type": "markdown",
   "id": "c9ff3115-a221-4f10-b5b4-7449b48cce08",
   "metadata": {
    "tags": []
   },
   "source": [
    "### Full sample analysis\n",
    "\n",
    "This section replicates the results of Jones and Ziebarth (2016), henceforth JZ, on the full sample. These results appear in table 1 of the paper. JZ look at the effect that each of the treatment arms (childseat, lap-only belt, or lap and shoulder belt) has on mortality with respect to the null of no protection, which applies to the majority of the sample.\n",
    "\n",
    "The following table shows the frequency of each treatment arm in this sample."
   ]
  },
  {
   "cell_type": "code",
   "execution_count": 5,
   "id": "8cd152ca-b978-4e05-8166-14ff5d29e65c",
   "metadata": {},
   "outputs": [
    {
     "data": {
      "text/html": [
       "<div>\n",
       "<style scoped>\n",
       "    .dataframe tbody tr th:only-of-type {\n",
       "        vertical-align: middle;\n",
       "    }\n",
       "\n",
       "    .dataframe tbody tr th {\n",
       "        vertical-align: top;\n",
       "    }\n",
       "\n",
       "    .dataframe thead th {\n",
       "        text-align: right;\n",
       "    }\n",
       "</style>\n",
       "<table border=\"1\" class=\"dataframe\">\n",
       "  <thead>\n",
       "    <tr style=\"text-align: right;\">\n",
       "      <th></th>\n",
       "      <th>restraint</th>\n",
       "    </tr>\n",
       "  </thead>\n",
       "  <tbody>\n",
       "    <tr>\n",
       "      <th>0_norestrain</th>\n",
       "      <td>20471</td>\n",
       "    </tr>\n",
       "    <tr>\n",
       "      <th>1_childseat</th>\n",
       "      <td>7409</td>\n",
       "    </tr>\n",
       "    <tr>\n",
       "      <th>2_lap only belt</th>\n",
       "      <td>4932</td>\n",
       "    </tr>\n",
       "    <tr>\n",
       "      <th>3_lap/should belt</th>\n",
       "      <td>5643</td>\n",
       "    </tr>\n",
       "  </tbody>\n",
       "</table>\n",
       "</div>"
      ],
      "text/plain": [
       "                   restraint\n",
       "0_norestrain           20471\n",
       "1_childseat             7409\n",
       "2_lap only belt         4932\n",
       "3_lap/should belt       5643"
      ]
     },
     "execution_count": 5,
     "metadata": {},
     "output_type": "execute_result"
    }
   ],
   "source": [
    "y = df_repl['death']\n",
    "T = df_repl['restraint']\n",
    "W = df_repl[[col for col in df_repl.columns if col not in ['lapbelt', 'lapshould', 'childseat']]]\n",
    "T.value_counts().to_frame().sort_index()"
   ]
  },
  {
   "cell_type": "markdown",
   "id": "2b228058-7873-453b-85ec-d53149307422",
   "metadata": {},
   "source": [
    "JZ, like Levitt (2008), use a linear probability model, and include controls as dummies or fixed effects to investigate the relationship between treatment and mortality. In this sample there is no identification, but we can still investigate whether including control variables in a non-linear way, and thereby allowing for arbitrary interactions between them, affects the results.\n",
    "\n",
    "To do so, we initialize three models:\n",
    "1. A ML model to predict the treatment `T` out of the available set of controls `W`\n",
    "1. A ML model to predict the outcome `y` out of the available set of controls `W`\n",
    "1. A second stage linear Double Machine Learning Model (DML) to orthogonalize the data using the first-stage models. Note that the class is initalized with the predefined `cv_splitter`, in order to ensure out-of-sample orthogonalization.\n",
    "\n",
    "As first-stage ML models we use [gradient boosted trees](), a popular model that typically performs very well in tabular medium-to-large datasets. The python `econml` interfacte allows for any class with a `.fit()` and `.predict()/.predict_proba()` method, so for example any model in the `scikit-learn` environment will do. Note that as the treatment has multiple arms, `econml` allows to specify a multinomial ML model (e.g. a multinomial logit) as first-stage model for T. Then `LinearDML` will orthogonalize automatically for each treatment arm. An alternative would be to estimate three spearate models, one for each treatment arm.\n",
    "\n",
    "The next cell initializes the DML model, fits them twice (the first time without controls, so without orthogonalization), and prints its results."
   ]
  },
  {
   "cell_type": "code",
   "execution_count": null,
   "id": "70324136",
   "metadata": {},
   "outputs": [],
   "source": []
  },
  {
   "cell_type": "code",
   "execution_count": 6,
   "id": "5ac0c67b-9af4-4b8e-a6aa-8d4924c3ab96",
   "metadata": {},
   "outputs": [
    {
     "ename": "NameError",
     "evalue": "name 'LinearDML' is not defined",
     "output_type": "error",
     "traceback": [
      "\u001b[0;31m---------------------------------------------------------------------------\u001b[0m",
      "\u001b[0;31mNameError\u001b[0m                                 Traceback (most recent call last)",
      "\u001b[0;32m<timed exec>\u001b[0m in \u001b[0;36m<module>\u001b[0;34m\u001b[0m\n",
      "\u001b[0;31mNameError\u001b[0m: name 'LinearDML' is not defined"
     ]
    }
   ],
   "source": [
    "%%time\n",
    "# Initialize model(s)\n",
    "model_t = HistGradientBoostingClassifier(max_iter=100, n_iter_no_change=10, max_depth=5, early_stopping=True, random_state=cfg.random_state)\n",
    "model_y = HistGradientBoostingRegressor(max_iter=100, n_iter_no_change=10, max_depth=5, early_stopping=True, random_state=cfg.random_state)\n",
    "dml = LinearDML(model_t=model_t, model_y=model_y, cv=cv_splitter, discrete_treatment=True, fit_cate_intercept=True)\n",
    "\n",
    "# Fit DML\n",
    "dml_nocontrols = deepcopy(dml).fit(y, T.values)\n",
    "dml.fit(y, T.values, W=pipe.fit_transform(W))\n",
    "\n",
    "# Show effects\n",
    "print('Without controls')\n",
    "inf = dml_nocontrols.intercept__inference()\n",
    "display(inf.summary_frame())\n",
    "print('With controls')\n",
    "inf = dml.intercept__inference()\n",
    "display(inf.summary_frame())"
   ]
  },
  {
   "cell_type": "markdown",
   "id": "83208693-9acc-4080-9b3d-8406d9b23996",
   "metadata": {},
   "source": [
    "The first table matches perfectly the results of JZ. The second table shows slightly different point estimates, as linear and non-linear orthogonalization differ, but there is no evidence that in this specific case controlling for `W` in a non-linear fashion matters much. \n",
    "\n",
    "Non-linear interactions and non-linearities in the controls in other words do not seem to matter much in this case. This result is not totally unexpected, as most of these controls are simple dummies. We can see that by comparing the out-of-sample explanatory powers of the first-stage models with simple linear regressions.  "
   ]
  },
  {
   "cell_type": "markdown",
   "id": "e7a068f5-9b1d-40d0-8dc1-5e3b9cb0a0d7",
   "metadata": {},
   "source": [
    "#### Comparison with OLS benchmark\n",
    "\n",
    "To do that, we simply initalize a DML model with OLS regressions as first stages. Then we compare out-of-sample $R^2$ for whether a row was treated (in any way) or not.\n",
    "\n",
    "Out-of-sample $R^2$ are obtained thanks to the `cv_cplitter` class. This allows models to be trained on half of the sample, and evaluated on the other half. The results for the two modesl are then averaged. This type of diagnostic is currently unavailable in `econml`, and is coded in the user-written class `DML_Diagnostics`)"
   ]
  },
  {
   "cell_type": "code",
   "execution_count": 6,
   "id": "a4a9dc33-a17b-490d-b970-660423a5425d",
   "metadata": {},
   "outputs": [
    {
     "name": "stdout",
     "output_type": "stream",
     "text": [
      "Wall time: 1.22 s\n"
     ]
    },
    {
     "data": {
      "text/html": [
       "<div>\n",
       "<style scoped>\n",
       "    .dataframe tbody tr th:only-of-type {\n",
       "        vertical-align: middle;\n",
       "    }\n",
       "\n",
       "    .dataframe tbody tr th {\n",
       "        vertical-align: top;\n",
       "    }\n",
       "\n",
       "    .dataframe thead th {\n",
       "        text-align: right;\n",
       "    }\n",
       "</style>\n",
       "<table border=\"1\" class=\"dataframe\">\n",
       "  <thead>\n",
       "    <tr style=\"text-align: right;\">\n",
       "      <th></th>\n",
       "      <th>R2 of outcome</th>\n",
       "      <th>R2 of treatment</th>\n",
       "    </tr>\n",
       "  </thead>\n",
       "  <tbody>\n",
       "    <tr>\n",
       "      <th>DML</th>\n",
       "      <td>0.081407</td>\n",
       "      <td>0.367481</td>\n",
       "    </tr>\n",
       "    <tr>\n",
       "      <th>OLS (benchmark)</th>\n",
       "      <td>0.060269</td>\n",
       "      <td>0.357166</td>\n",
       "    </tr>\n",
       "  </tbody>\n",
       "</table>\n",
       "</div>"
      ],
      "text/plain": [
       "                 R2 of outcome  R2 of treatment\n",
       "DML                   0.081407         0.367481\n",
       "OLS (benchmark)       0.060269         0.357166"
      ]
     },
     "execution_count": 6,
     "metadata": {},
     "output_type": "execute_result"
    }
   ],
   "source": [
    "%%time\n",
    "Tb = T.str[0].astype(int)>0\n",
    "model_t = LinearRegression()\n",
    "model_y = LinearRegression()\n",
    "bmark = LinearDML(model_t=model_t, model_y=model_y, cv=cv_splitter, discrete_treatment=False, fit_cate_intercept=True)\n",
    "bmark.fit(y, Tb.values, W=pipe.fit_transform(W))\n",
    "\n",
    "diag = DML_diagnostics(dml)\n",
    "bdiag = DML_diagnostics(bmark)\n",
    "pd.DataFrame([\n",
    "        [r2_score(y, diag.predict_y(W=pipe.transform(W))), r2_score(T.str[0].astype(int)>0, diag.predict_T(W=pipe.transform(W)))],\n",
    "        [r2_score(y, bdiag.predict_y(W=pipe.transform(W))), r2_score(Tb, bdiag.predict_T(W=pipe.transform(W)))]\n",
    "    ]\n",
    "    , index=['DML', 'OLS (benchmark)'], columns=['R2 of outcome', 'R2 of treatment']\n",
    ")"
   ]
  },
  {
   "cell_type": "markdown",
   "id": "00a7ba17-38e1-41dc-95b4-cf515bfdf986",
   "metadata": {},
   "source": [
    "The table shows that ML approaches are able to extract more information from the same controls than OLS can, but only marginally in this case.\n",
    "\n",
    "Note also that we compute an $R^2$ of $~6\\%$, lower than the $8.1\\%$ calculated in JZ. This is due to the out-of-sample computation, suggesting a DML approach would be prone to overfitting even with a simple linear model as a first stage. "
   ]
  },
  {
   "cell_type": "markdown",
   "id": "71395b29-56f2-4eb9-987e-1c251b1c56d3",
   "metadata": {
    "tags": []
   },
   "source": [
    "### Selected sample replication (causal)\n",
    "\n",
    "Here we replicate the same exercise for the selected sample of two-car crashes where someone died in the other car, which according to the assumptions of Levitt (2008) grants unconfoundedness given `W`, and thereby causal identification. "
   ]
  },
  {
   "cell_type": "code",
   "execution_count": 7,
   "id": "a4997a8b-3cc0-4fb4-a7f9-89c6aecd935a",
   "metadata": {},
   "outputs": [
    {
     "data": {
      "text/html": [
       "<div>\n",
       "<style scoped>\n",
       "    .dataframe tbody tr th:only-of-type {\n",
       "        vertical-align: middle;\n",
       "    }\n",
       "\n",
       "    .dataframe tbody tr th {\n",
       "        vertical-align: top;\n",
       "    }\n",
       "\n",
       "    .dataframe thead th {\n",
       "        text-align: right;\n",
       "    }\n",
       "</style>\n",
       "<table border=\"1\" class=\"dataframe\">\n",
       "  <thead>\n",
       "    <tr style=\"text-align: right;\">\n",
       "      <th></th>\n",
       "      <th>restraint</th>\n",
       "    </tr>\n",
       "  </thead>\n",
       "  <tbody>\n",
       "    <tr>\n",
       "      <th>0_norestrain</th>\n",
       "      <td>3697</td>\n",
       "    </tr>\n",
       "    <tr>\n",
       "      <th>1_childseat</th>\n",
       "      <td>2617</td>\n",
       "    </tr>\n",
       "    <tr>\n",
       "      <th>2_lap only belt</th>\n",
       "      <td>1786</td>\n",
       "    </tr>\n",
       "    <tr>\n",
       "      <th>3_lap/should belt</th>\n",
       "      <td>2228</td>\n",
       "    </tr>\n",
       "  </tbody>\n",
       "</table>\n",
       "</div>"
      ],
      "text/plain": [
       "                   restraint\n",
       "0_norestrain            3697\n",
       "1_childseat             2617\n",
       "2_lap only belt         1786\n",
       "3_lap/should belt       2228"
      ]
     },
     "execution_count": 7,
     "metadata": {},
     "output_type": "execute_result"
    }
   ],
   "source": [
    "y = df_sel['death']\n",
    "T = df_sel['restraint']\n",
    "W = df_sel[[col for col in df_sel.columns if col not in ['lapbelt', 'lapshould', 'childseat']]]\n",
    "T.value_counts().to_frame().sort_index()"
   ]
  },
  {
   "cell_type": "markdown",
   "id": "e28709a5-2475-4142-92d0-705e534388e8",
   "metadata": {},
   "source": [
    "The steps and the code here is the same. We simply fit the models on a separate sample. Again, non-linear controls do not seem to matter much in this case, and estimates are very close to those by JZ."
   ]
  },
  {
   "cell_type": "code",
   "execution_count": 8,
   "id": "8bc0a98f-e02a-4927-bcc1-21a7f2640e05",
   "metadata": {},
   "outputs": [
    {
     "name": "stdout",
     "output_type": "stream",
     "text": [
      "Without controls\n"
     ]
    },
    {
     "data": {
      "text/html": [
       "<div>\n",
       "<style scoped>\n",
       "    .dataframe tbody tr th:only-of-type {\n",
       "        vertical-align: middle;\n",
       "    }\n",
       "\n",
       "    .dataframe tbody tr th {\n",
       "        vertical-align: top;\n",
       "    }\n",
       "\n",
       "    .dataframe thead th {\n",
       "        text-align: right;\n",
       "    }\n",
       "</style>\n",
       "<table border=\"1\" class=\"dataframe\">\n",
       "  <thead>\n",
       "    <tr style=\"text-align: right;\">\n",
       "      <th></th>\n",
       "      <th></th>\n",
       "      <th>point_estimate</th>\n",
       "      <th>stderr</th>\n",
       "      <th>zstat</th>\n",
       "      <th>pvalue</th>\n",
       "      <th>ci_lower</th>\n",
       "      <th>ci_upper</th>\n",
       "    </tr>\n",
       "    <tr>\n",
       "      <th>X</th>\n",
       "      <th>T</th>\n",
       "      <th></th>\n",
       "      <th></th>\n",
       "      <th></th>\n",
       "      <th></th>\n",
       "      <th></th>\n",
       "      <th></th>\n",
       "    </tr>\n",
       "  </thead>\n",
       "  <tbody>\n",
       "    <tr>\n",
       "      <th rowspan=\"3\" valign=\"top\">cate_intercept</th>\n",
       "      <th>T0_1_childseat</th>\n",
       "      <td>-0.046</td>\n",
       "      <td>0.005</td>\n",
       "      <td>-8.698</td>\n",
       "      <td>0.0</td>\n",
       "      <td>-0.055</td>\n",
       "      <td>-0.038</td>\n",
       "    </tr>\n",
       "    <tr>\n",
       "      <th>T0_2_lap only belt</th>\n",
       "      <td>-0.051</td>\n",
       "      <td>0.006</td>\n",
       "      <td>-9.309</td>\n",
       "      <td>0.0</td>\n",
       "      <td>-0.060</td>\n",
       "      <td>-0.042</td>\n",
       "    </tr>\n",
       "    <tr>\n",
       "      <th>T0_3_lap/should belt</th>\n",
       "      <td>-0.047</td>\n",
       "      <td>0.005</td>\n",
       "      <td>-8.623</td>\n",
       "      <td>0.0</td>\n",
       "      <td>-0.056</td>\n",
       "      <td>-0.038</td>\n",
       "    </tr>\n",
       "  </tbody>\n",
       "</table>\n",
       "</div>"
      ],
      "text/plain": [
       "                                     point_estimate  stderr  zstat  pvalue  \\\n",
       "X              T                                                             \n",
       "cate_intercept T0_1_childseat                -0.046   0.005 -8.698     0.0   \n",
       "               T0_2_lap only belt            -0.051   0.006 -9.309     0.0   \n",
       "               T0_3_lap/should belt          -0.047   0.005 -8.623     0.0   \n",
       "\n",
       "                                     ci_lower  ci_upper  \n",
       "X              T                                         \n",
       "cate_intercept T0_1_childseat          -0.055    -0.038  \n",
       "               T0_2_lap only belt      -0.060    -0.042  \n",
       "               T0_3_lap/should belt    -0.056    -0.038  "
      ]
     },
     "metadata": {},
     "output_type": "display_data"
    },
    {
     "name": "stdout",
     "output_type": "stream",
     "text": [
      "With controls\n"
     ]
    },
    {
     "data": {
      "text/html": [
       "<div>\n",
       "<style scoped>\n",
       "    .dataframe tbody tr th:only-of-type {\n",
       "        vertical-align: middle;\n",
       "    }\n",
       "\n",
       "    .dataframe tbody tr th {\n",
       "        vertical-align: top;\n",
       "    }\n",
       "\n",
       "    .dataframe thead th {\n",
       "        text-align: right;\n",
       "    }\n",
       "</style>\n",
       "<table border=\"1\" class=\"dataframe\">\n",
       "  <thead>\n",
       "    <tr style=\"text-align: right;\">\n",
       "      <th></th>\n",
       "      <th></th>\n",
       "      <th>point_estimate</th>\n",
       "      <th>stderr</th>\n",
       "      <th>zstat</th>\n",
       "      <th>pvalue</th>\n",
       "      <th>ci_lower</th>\n",
       "      <th>ci_upper</th>\n",
       "    </tr>\n",
       "    <tr>\n",
       "      <th>X</th>\n",
       "      <th>T</th>\n",
       "      <th></th>\n",
       "      <th></th>\n",
       "      <th></th>\n",
       "      <th></th>\n",
       "      <th></th>\n",
       "      <th></th>\n",
       "    </tr>\n",
       "  </thead>\n",
       "  <tbody>\n",
       "    <tr>\n",
       "      <th rowspan=\"3\" valign=\"top\">cate_intercept</th>\n",
       "      <th>T0_1_childseat</th>\n",
       "      <td>-0.048</td>\n",
       "      <td>0.007</td>\n",
       "      <td>-6.873</td>\n",
       "      <td>0.0</td>\n",
       "      <td>-0.059</td>\n",
       "      <td>-0.036</td>\n",
       "    </tr>\n",
       "    <tr>\n",
       "      <th>T0_2_lap only belt</th>\n",
       "      <td>-0.048</td>\n",
       "      <td>0.007</td>\n",
       "      <td>-6.861</td>\n",
       "      <td>0.0</td>\n",
       "      <td>-0.060</td>\n",
       "      <td>-0.037</td>\n",
       "    </tr>\n",
       "    <tr>\n",
       "      <th>T0_3_lap/should belt</th>\n",
       "      <td>-0.054</td>\n",
       "      <td>0.007</td>\n",
       "      <td>-7.188</td>\n",
       "      <td>0.0</td>\n",
       "      <td>-0.066</td>\n",
       "      <td>-0.041</td>\n",
       "    </tr>\n",
       "  </tbody>\n",
       "</table>\n",
       "</div>"
      ],
      "text/plain": [
       "                                     point_estimate  stderr  zstat  pvalue  \\\n",
       "X              T                                                             \n",
       "cate_intercept T0_1_childseat                -0.048   0.007 -6.873     0.0   \n",
       "               T0_2_lap only belt            -0.048   0.007 -6.861     0.0   \n",
       "               T0_3_lap/should belt          -0.054   0.007 -7.188     0.0   \n",
       "\n",
       "                                     ci_lower  ci_upper  \n",
       "X              T                                         \n",
       "cate_intercept T0_1_childseat          -0.059    -0.036  \n",
       "               T0_2_lap only belt      -0.060    -0.037  \n",
       "               T0_3_lap/should belt    -0.066    -0.041  "
      ]
     },
     "metadata": {},
     "output_type": "display_data"
    },
    {
     "name": "stdout",
     "output_type": "stream",
     "text": [
      "Wall time: 2.36 s\n"
     ]
    }
   ],
   "source": [
    "%%time\n",
    "# Initialize model(s)\n",
    "model_t = HistGradientBoostingClassifier(max_iter=100, n_iter_no_change=10, max_depth=5, early_stopping=True, random_state=cfg.random_state)\n",
    "model_y = HistGradientBoostingRegressor(max_iter=100, n_iter_no_change=10, max_depth=5, early_stopping=True, random_state=cfg.random_state)\n",
    "dml = LinearDML(model_t=model_t, model_y=model_y, cv=cv_splitter, discrete_treatment=True, fit_cate_intercept=True)\n",
    "\n",
    "# Fit DML\n",
    "dml_nocontrols = deepcopy(dml).fit(y, T.values)\n",
    "dml.fit(y, T.values, W=pipe.fit_transform(W))\n",
    "\n",
    "# Show effects\n",
    "print('Without controls')\n",
    "inf = dml_nocontrols.intercept__inference()\n",
    "display(inf.summary_frame())\n",
    "print('With controls')\n",
    "inf = dml.intercept__inference()\n",
    "display(inf.summary_frame())"
   ]
  },
  {
   "cell_type": "markdown",
   "id": "4f945f07-9ac1-4609-856e-54303f204218",
   "metadata": {},
   "source": [
    "#### Comparison with OLS benchmark\n",
    "\n",
    "Again, ML models do not add much predictive power.\n",
    "\n",
    "In one case, they seem to reduce predictive power, likely due to moderate overfitting. Note that here $R^2$ are very low, and the sample limited, so few observations can have a large impact on estimated $R^2$s."
   ]
  },
  {
   "cell_type": "code",
   "execution_count": 9,
   "id": "9ca59978-7e1f-4cc9-8983-09c613eba4dd",
   "metadata": {},
   "outputs": [
    {
     "name": "stdout",
     "output_type": "stream",
     "text": [
      "Wall time: 322 ms\n"
     ]
    },
    {
     "data": {
      "text/html": [
       "<div>\n",
       "<style scoped>\n",
       "    .dataframe tbody tr th:only-of-type {\n",
       "        vertical-align: middle;\n",
       "    }\n",
       "\n",
       "    .dataframe tbody tr th {\n",
       "        vertical-align: top;\n",
       "    }\n",
       "\n",
       "    .dataframe thead th {\n",
       "        text-align: right;\n",
       "    }\n",
       "</style>\n",
       "<table border=\"1\" class=\"dataframe\">\n",
       "  <thead>\n",
       "    <tr style=\"text-align: right;\">\n",
       "      <th></th>\n",
       "      <th>R2 of outcome</th>\n",
       "      <th>R2 of treatment</th>\n",
       "    </tr>\n",
       "  </thead>\n",
       "  <tbody>\n",
       "    <tr>\n",
       "      <th>DML</th>\n",
       "      <td>0.018189</td>\n",
       "      <td>0.406288</td>\n",
       "    </tr>\n",
       "    <tr>\n",
       "      <th>OLS (benchmark)</th>\n",
       "      <td>0.020651</td>\n",
       "      <td>0.400938</td>\n",
       "    </tr>\n",
       "  </tbody>\n",
       "</table>\n",
       "</div>"
      ],
      "text/plain": [
       "                 R2 of outcome  R2 of treatment\n",
       "DML                   0.018189         0.406288\n",
       "OLS (benchmark)       0.020651         0.400938"
      ]
     },
     "execution_count": 9,
     "metadata": {},
     "output_type": "execute_result"
    }
   ],
   "source": [
    "%%time\n",
    "Tb = T.str[0].astype(int)>0\n",
    "model_t = LinearRegression()\n",
    "model_y = LinearRegression()\n",
    "bmark = LinearDML(model_t=model_t, model_y=model_y, cv=cv_splitter, discrete_treatment=False, fit_cate_intercept=True)\n",
    "\n",
    "bmark.fit(y, Tb.values, W=pipe.fit_transform(W))\n",
    "\n",
    "diag = DML_diagnostics(dml)\n",
    "bdiag = DML_diagnostics(bmark)\n",
    "pd.DataFrame([\n",
    "        [r2_score(y, diag.predict_y(W=pipe.transform(W))), r2_score(T.str[0].astype(int)>0, diag.predict_T(W=pipe.transform(W)))],\n",
    "        [r2_score(y, bdiag.predict_y(W=pipe.transform(W))), r2_score(Tb, bdiag.predict_T(W=pipe.transform(W)))]\n",
    "    ]\n",
    "    , index=['DML', 'OLS (benchmark)'], columns=['R2 of outcome', 'R2 of treatment']\n",
    ")"
   ]
  },
  {
   "cell_type": "markdown",
   "id": "8f931804-9117-4260-9edb-0be8cd23b578",
   "metadata": {},
   "source": [
    "**Overall, in this specific example, applying DML techniques did not improve our ability to control for covariates under unconfoundedness. Turns out the basic OLS models does a good job of that already here, also thanks to the control data being relatively simple in format.** "
   ]
  },
  {
   "cell_type": "markdown",
   "id": "e5026ed3-a5c0-46f0-83f7-1b6e97886c8d",
   "metadata": {
    "tags": []
   },
   "source": [
    "## Causal Forests: Or *how to discover heterogeneity in effects*\n",
    "\n",
    "This part of the notebook shows how to implement a causal forest model in python, compute some diagnostics, and interpret the results.\n",
    "\n",
    "A causal forest model in `econml` has a very similar architecture to the DML models shown in the first section. We still need to specify two first-stage models for orthogonalization. However, the second stage model, rather than being a linear model directly relating the residuals to each other$^*$, is a [causal forest](https://www.tandfonline.com/doi/abs/10.1080/01621459.2017.1319839) that models the effect of $T$ on $y$ according to a set of covariates `X`. `X` can be any subset of variables you a-priory believe interact with the main effect to create heterogeneity. You could also specify your whole control set `W` as `X`, if you want to take a brute-force approach, and explore any possible heterogeneity in the data.\n",
    "\n",
    "In this section, for simplicity, we consider **any  protection as a treatment**. In other words, we do not differentiate between treatment arms. We will relax this assumption in the next section, but we believe starting from a simple example makes more sense pedagogically.\n",
    "\n",
    "With respect to the first section, we further stop hardcoding `year` and `modelyr` as fixed effects, and let the flexible ML models we are using as first-stage decide how to treat these variables. Tree-based models tend to have a lower performance when a large number of low-information features are included, so it is often best not to explicity one-hot encode ordinal variables. \n",
    "\n",
    "$\\quad\\small ^*:$ A Linear DML also supports estimation of treatment effect heteroegeneity given a set of covariate `X` - the effect is simply estimated linearly, as it would in a OLS regression if you interacted the treatment dummy with `X`. See the [official documentation for `LinearDML`](https://econml.azurewebsites.net/_autosummary/econml.dml.LinearDML.html)"
   ]
  },
  {
   "cell_type": "code",
   "execution_count": 8,
   "id": "8e3840fe-63be-46dc-8bab-33cc66cb4181",
   "metadata": {},
   "outputs": [],
   "source": [
    "feats = deepcopy(ft.feat_type)\n",
    "feats['categorical'] = ['crashtm']\n",
    "feats['ordinal'] = feats['ordinal'] + ['year', 'modelyr']\n",
    "pipe = ft.construct_data_pipeline(feat_type=feats, pd_output=True)\n",
    "\n",
    "# Determine variables: HEre we use all controls as X\n",
    "y = df_sel['death']\n",
    "T = df_sel[['childseat', 'lapbelt', 'lapshould']].max(axis=1).astype(int)\n",
    "X = df_sel[[col for col in df_sel.columns if col not in ['lapbelt', 'lapshould', 'childseat']]]\n",
    "X = pipe.fit_transform(X)"
   ]
  },
  {
   "cell_type": "code",
   "execution_count": 10,
   "id": "6a90ce2d",
   "metadata": {},
   "outputs": [
    {
     "data": {
      "text/plain": [
       "['crashtm_1_day',\n",
       " 'crashtm_2_night',\n",
       " 'crashtm_3_morn',\n",
       " 'thoulbs_I',\n",
       " 'numcrash',\n",
       " 'passgcar',\n",
       " 'suv',\n",
       " 'weekend',\n",
       " 'frimp',\n",
       " 'indfrimp',\n",
       " 'rearimp',\n",
       " 'indrearimp',\n",
       " 'rsimp',\n",
       " 'lsimp',\n",
       " 'ruralrd',\n",
       " 'row1',\n",
       " 'backright',\n",
       " 'backleft',\n",
       " 'backother',\n",
       " 'male',\n",
       " 'missweight',\n",
       " 'drivebelt',\n",
       " 'splmU55',\n",
       " 'lowviol',\n",
       " 'highviol',\n",
       " 'car_age',\n",
       " 'year',\n",
       " 'modelyr']"
      ]
     },
     "execution_count": 10,
     "metadata": {},
     "output_type": "execute_result"
    }
   ],
   "source": [
    "list(X)"
   ]
  },
  {
   "cell_type": "markdown",
   "id": "1a369d60-c43e-4821-881f-ed6a3cc586c6",
   "metadata": {},
   "source": [
    "The initalization and estimaton of a Causal Forest in `econml` is very similar to that of a `DML` model. \n",
    "\n",
    "**IMPORTANT PRACTICAL NOTE**\n",
    "\n",
    "Notice that here we are specifying some regularization parameters in the `CausalForestDML` class initialization (specifically, `max_depth`, `min_samples_split`, and `min_samples_leaf`). This regularization is very important in practice. The default parameters of `econml` are very liberal, and allow for the estimation of extremely flexible models for heterogeneity. While this might be good for large dataset and a limited variables in `X`, for typical policy problems with limited number of observations and more than three or four variables of interest, a model estimated often overfits and generalizes badly. An example of this will follow shortly."
   ]
  },
  {
   "cell_type": "code",
   "execution_count": 11,
   "id": "0374b1cc-3bfb-4b93-b3d7-7c2635e951da",
   "metadata": {},
   "outputs": [
    {
     "name": "stdout",
     "output_type": "stream",
     "text": [
      "Wall time: 1.37 s\n"
     ]
    },
    {
     "data": {
      "text/plain": [
       "<econml.dml.causal_forest.CausalForestDML at 0x1d98b63b588>"
      ]
     },
     "execution_count": 11,
     "metadata": {},
     "output_type": "execute_result"
    }
   ],
   "source": [
    "%%time\n",
    "model_t = HistGradientBoostingClassifier(max_iter=100, n_iter_no_change=10, max_depth=5, early_stopping=True, random_state=cfg.random_state)\n",
    "model_y = HistGradientBoostingRegressor(max_iter=100, n_iter_no_change=10, max_depth=3, early_stopping=True, random_state=cfg.random_state)\n",
    "cf = CausalForestDML(model_t=model_t, model_y=model_y, cv=cv_splitter, discrete_treatment=True, random_state=cfg.random_state,\n",
    "                    min_samples_split=200, min_samples_leaf=50, max_depth=3)\n",
    "cf.fit(y, T.values, X=X)"
   ]
  },
  {
   "cell_type": "markdown",
   "id": "20a88a0a-1bd5-4b4b-bcda-5675e69d5d55",
   "metadata": {},
   "source": [
    "Once the model is estimated, conditional average treatment effects (CATEs) can be easily estimated. These are a potentially complex function of `T` and `X`, so both need to be provided for estimating CATEs.\n",
    "\n",
    "The average CATE in our sample is very much consistent with the overall effects estimated by `DML`, which it should."
   ]
  },
  {
   "cell_type": "code",
   "execution_count": 12,
   "id": "26b86bac-e23d-4dbb-ac1d-45aa655eac90",
   "metadata": {},
   "outputs": [
    {
     "name": "stdout",
     "output_type": "stream",
     "text": [
      "Average in-sample marginal effect: -0.04860\n"
     ]
    }
   ],
   "source": [
    "cates = cf.marginal_effect(T, X=X).reshape(-1, 1)\n",
    "print(f'Average in-sample marginal effect: {cates.mean():.5f}')"
   ]
  },
  {
   "cell_type": "markdown",
   "id": "3eb28f6a-519e-4064-a727-e20b9f00795c",
   "metadata": {},
   "source": [
    "We can plot the distribution of these estimated effects in the sample. Most observations get an estimated CATE around $-0.45$, but the distribution is cleaarly bimodal, with a cluster of observations for which safety measures have twice as large an impact on mortality! That's pretty interesting, and we can delve deeper in trying to understand what characterizes these observations.\n",
    "\n",
    "Yet, we must first double-check that the causal forest model we have estimated adequately captures heterogeneity, and that the pattern we are seeing here is not an artifact os some estimation error."
   ]
  },
  {
   "cell_type": "code",
   "execution_count": 13,
   "id": "c5a7f82f-d6ac-4fdc-b628-d5142bc8bd3e",
   "metadata": {
    "jupyter": {
     "source_hidden": true
    },
    "tags": []
   },
   "outputs": [
    {
     "data": {
      "image/png": "[encoded data removed]",
      "text/plain": [
       "<Figure size 720x432 with 1 Axes>"
      ]
     },
     "metadata": {
      "needs_background": "light"
     },
     "output_type": "display_data"
    }
   ],
   "source": [
    "fig, ax = plt.subplots(1,1, figsize=(10, 6))\n",
    "\n",
    "sns.histplot(x=cates[cates<0].reshape(-1), ax=ax, color='blue')\n",
    "sns.histplot(x=cates[cates>0].reshape(-1), ax=ax, color='red')\n",
    "plt.show() "
   ]
  },
  {
   "cell_type": "markdown",
   "id": "07a32801-efca-428e-907e-580d31044742",
   "metadata": {},
   "source": [
    "To check whether the causal forest adequately captures heterogeneity in the data, [Athey and Wager (2019)](https://arxiv.org/abs/1902.07409) propose two diagnostic tests. The first is simple. \n",
    "\n",
    "1. Split the sample in groups according to the estimate CATEs (e.g. using quantiles)\n",
    "2. Estimate separate linear treatment effect models (could be OLS, or DML) in each othe the subsample\n",
    "3. If the causal forest model adequately captures heterogeneity, the effect estimated through these models should be consistent with the average estimated CATE in the subset, and the estimated effects should increase as the average subsample CATE increases\n",
    "\n",
    "Let's check that by splitting the sample between observations with an estimated CATE lower or higher than than $-0.065$"
   ]
  },
  {
   "cell_type": "code",
   "execution_count": 14,
   "id": "6751eae9-9bb2-4ab0-8e0e-9012c0790731",
   "metadata": {
    "jupyter": {
     "source_hidden": true
    },
    "tags": []
   },
   "outputs": [],
   "source": [
    "model_t = HistGradientBoostingClassifier(max_iter=100, n_iter_no_change=10, max_depth=5, early_stopping=True, random_state=cfg.random_state)\n",
    "model_y = HistGradientBoostingRegressor(max_iter=100, n_iter_no_change=10, max_depth=5, early_stopping=True, random_state=cfg.random_state)\n",
    "dml = LinearDML(model_t=model_t, model_y=model_y, cv=cv_splitter, discrete_treatment=True)"
   ]
  },
  {
   "cell_type": "code",
   "execution_count": 15,
   "id": "eb61ca6c-016e-4460-81f4-f3c1187988c3",
   "metadata": {},
   "outputs": [],
   "source": [
    "groups = np.digitize(cates, [-0.065]).reshape(-1)\n",
    "modellist = []\n",
    "for group in set(groups.reshape(-1)):\n",
    "    modellist.append(\n",
    "        deepcopy(dml).fit(y[groups==group], T.values[groups==group], W=X[groups==group])\n",
    "    )"
   ]
  },
  {
   "cell_type": "code",
   "execution_count": 16,
   "id": "78cf8ebd-0b8a-4c13-a169-628e03500f0b",
   "metadata": {
    "jupyter": {
     "source_hidden": true
    },
    "tags": []
   },
   "outputs": [
    {
     "data": {
      "image/png": "[encoded data removed]",
      "text/plain": [
       "<Figure size 504x216 with 1 Axes>"
      ]
     },
     "metadata": {
      "needs_background": "light"
     },
     "output_type": "display_data"
    }
   ],
   "source": [
    "fig, ax = plt.subplots(1,1, figsize=(7, 3))\n",
    "grps = list(set(groups))\n",
    "plt.errorbar(\n",
    "    [modellist[i].ate() for i in grps], grps,\n",
    "    xerr=[modellist[i].ate_interval()[1] - modellist[i].ate() for i in grps],\n",
    "    capsize=10, ls='none', marker='o', label='Effect in subsample'\n",
    ")\n",
    "plt.scatter([cates[groups==i].mean() for i in grps], grps, marker='^', color='red', label = 'Average CATE in subsample')\n",
    "\n",
    "ax.set_ylim(min(grps)-0.5, max(grps)+0.5)\n",
    "ax.set_yticks([0,1])\n",
    "ax.set_yticklabels(['CATE <= -0.06', 'CATE > -0.06'])\n",
    "ax.set_xlim(-0.2, 0)\n",
    "\n",
    "ax.axvline(0, color='black', ls='--')\n",
    "\n",
    "ax.legend(frameon=False, loc='upper left')\n",
    "\n",
    "sns.despine()\n",
    "plt.show()"
   ]
  },
  {
   "cell_type": "markdown",
   "id": "99db1934-c52f-4af3-b39f-b28ea2e457bb",
   "metadata": {},
   "source": [
    "Consistently with the causal forest results, effects in the two groups are very different! If anything, the CATEs estimated by the causal forest are too conservative (attenuated towards zero) for the large effect subsample.\n",
    "\n",
    "Another test suggested by [Athey and Wager (2019)](https://arxiv.org/abs/1902.07409) is checking whether the estimated CATEs predict well (out of sample) the orthogonalized outcome, given the orthogonalized treatment. Denote \n",
    "\n",
    "* $\\hat{\\tau}^{-i}$ as the estimated CATE (the $^{-i}$ superscript means that the CATE is estimated out-of-bag, i.e. in practice using an appropriate `cv_splitter`)\n",
    "* $\\tilde{\\tau}$ as the average estimated CATE\n",
    "* $y_i - \\hat{m}^{-i}(X_{i})$ the residualized outcome, where $\\hat{m}^{-i}$ is the estimated first-stage (set of) model(s)\n",
    "* $T_i - \\hat{e}^{-i}(X_{i})$ the residualized treatment\n",
    "\n",
    "Then we can estimate the regression \n",
    "\n",
    "\\begin{equation}\n",
    "y_i - \\hat{m}^{-i}(X_{i}) = \\beta_{C} \\cdot \\underbrace{\\tilde{\\tau}\\left(T_i - \\hat{e}^{-i}(X_{i})\\right)}_{C_{i}} \n",
    "    + \\beta_D \\cdot \\underbrace{\\left(\\hat{\\tau}^{-i} - \\tilde{\\tau} \\right)\\left(T_i - \\hat{e}^{-i}(X_{i})\\right)}_{C_{i}}\n",
    "\\end{equation}\n",
    "\n",
    "where the coefficient $\\beta_{C}$ represents how well the CATEs capture the average treatment effect, and $\\beta_{D}$ captures how well the causal forest capture heterogeneity. In a well calibrated model both coefficient should be equal to one. As Athey and Wager argue, the p-value of $\\beta{D}$ can act as a test of the hypothesis that the causal forests found meaningful heterogeneity in the data.\n",
    "\n",
    "We perform this test below."
   ]
  },
  {
   "cell_type": "code",
   "execution_count": 17,
   "id": "af8af5a1-6b22-45de-afd8-f9a9b618d443",
   "metadata": {},
   "outputs": [
    {
     "data": {
      "text/html": [
       "<table class=\"simpletable\">\n",
       "<caption>OLS Regression Results</caption>\n",
       "<tr>\n",
       "  <th>Dep. Variable:</th>            <td>y</td>        <th>  R-squared:         </th> <td>   0.014</td>\n",
       "</tr>\n",
       "<tr>\n",
       "  <th>Model:</th>                   <td>OLS</td>       <th>  Adj. R-squared:    </th> <td>   0.014</td>\n",
       "</tr>\n",
       "<tr>\n",
       "  <th>Method:</th>             <td>Least Squares</td>  <th>  F-statistic:       </th> <td>   29.97</td>\n",
       "</tr>\n",
       "<tr>\n",
       "  <th>Date:</th>             <td>Fri, 13 Aug 2021</td> <th>  Prob (F-statistic):</th> <td>1.05e-13</td>\n",
       "</tr>\n",
       "<tr>\n",
       "  <th>Time:</th>                 <td>10:15:07</td>     <th>  Log-Likelihood:    </th> <td>  2089.4</td>\n",
       "</tr>\n",
       "<tr>\n",
       "  <th>No. Observations:</th>      <td> 10328</td>      <th>  AIC:               </th> <td>  -4173.</td>\n",
       "</tr>\n",
       "<tr>\n",
       "  <th>Df Residuals:</th>          <td> 10325</td>      <th>  BIC:               </th> <td>  -4151.</td>\n",
       "</tr>\n",
       "<tr>\n",
       "  <th>Df Model:</th>              <td>     2</td>      <th>                     </th>     <td> </td>   \n",
       "</tr>\n",
       "<tr>\n",
       "  <th>Covariance Type:</th>         <td>HC3</td>       <th>                     </th>     <td> </td>   \n",
       "</tr>\n",
       "</table>\n",
       "<table class=\"simpletable\">\n",
       "<tr>\n",
       "             <td></td>                <th>coef</th>     <th>std err</th>      <th>t</th>      <th>P>|t|</th>  <th>[0.025</th>    <th>0.975]</th>  \n",
       "</tr>\n",
       "<tr>\n",
       "  <th>constant</th>                <td>    0.0001</td> <td>    0.002</td> <td>    0.065</td> <td> 0.948</td> <td>   -0.004</td> <td>    0.004</td>\n",
       "</tr>\n",
       "<tr>\n",
       "  <th>mean_predictions</th>        <td>    0.9460</td> <td>    0.129</td> <td>    7.310</td> <td> 0.000</td> <td>    0.692</td> <td>    1.200</td>\n",
       "</tr>\n",
       "<tr>\n",
       "  <th>differential_prediction</th> <td>    2.9540</td> <td>    0.656</td> <td>    4.503</td> <td> 0.000</td> <td>    1.668</td> <td>    4.240</td>\n",
       "</tr>\n",
       "</table>\n",
       "<table class=\"simpletable\">\n",
       "<tr>\n",
       "  <th>Omnibus:</th>       <td>8878.062</td> <th>  Durbin-Watson:     </th>  <td>   1.878</td> \n",
       "</tr>\n",
       "<tr>\n",
       "  <th>Prob(Omnibus):</th>  <td> 0.000</td>  <th>  Jarque-Bera (JB):  </th> <td>167481.407</td>\n",
       "</tr>\n",
       "<tr>\n",
       "  <th>Skew:</th>           <td> 4.344</td>  <th>  Prob(JB):          </th>  <td>    0.00</td> \n",
       "</tr>\n",
       "<tr>\n",
       "  <th>Kurtosis:</th>       <td>20.712</td>  <th>  Cond. No.          </th>  <td>    196.</td> \n",
       "</tr>\n",
       "</table><br/><br/>Notes:<br/>[1] Standard Errors are heteroscedasticity robust (HC3)"
      ],
      "text/plain": [
       "<class 'statsmodels.iolib.summary.Summary'>\n",
       "\"\"\"\n",
       "                            OLS Regression Results                            \n",
       "==============================================================================\n",
       "Dep. Variable:                      y   R-squared:                       0.014\n",
       "Model:                            OLS   Adj. R-squared:                  0.014\n",
       "Method:                 Least Squares   F-statistic:                     29.97\n",
       "Date:                Fri, 13 Aug 2021   Prob (F-statistic):           1.05e-13\n",
       "Time:                        10:15:07   Log-Likelihood:                 2089.4\n",
       "No. Observations:               10328   AIC:                            -4173.\n",
       "Df Residuals:                   10325   BIC:                            -4151.\n",
       "Df Model:                           2                                         \n",
       "Covariance Type:                  HC3                                         \n",
       "===========================================================================================\n",
       "                              coef    std err          t      P>|t|      [0.025      0.975]\n",
       "-------------------------------------------------------------------------------------------\n",
       "constant                    0.0001      0.002      0.065      0.948      -0.004       0.004\n",
       "mean_predictions            0.9460      0.129      7.310      0.000       0.692       1.200\n",
       "differential_prediction     2.9540      0.656      4.503      0.000       1.668       4.240\n",
       "==============================================================================\n",
       "Omnibus:                     8878.062   Durbin-Watson:                   1.878\n",
       "Prob(Omnibus):                  0.000   Jarque-Bera (JB):           167481.407\n",
       "Skew:                           4.344   Prob(JB):                         0.00\n",
       "Kurtosis:                      20.712   Cond. No.                         196.\n",
       "==============================================================================\n",
       "\n",
       "Notes:\n",
       "[1] Standard Errors are heteroscedasticity robust (HC3)\n",
       "\"\"\""
      ]
     },
     "execution_count": 17,
     "metadata": {},
     "output_type": "execute_result"
    }
   ],
   "source": [
    "import statsmodels.api as sm\n",
    "residuals = DML_diagnostics(cf).first_stage_residuals(y, T, X=X)\n",
    "C = cates.mean()*residuals[['T']]\n",
    "D = (cates - cates.mean())*residuals[['T']]\n",
    "test=pd.concat(((1-C.isna()), C, D), axis='columns')\n",
    "test.columns = ['constant', 'mean_predictions', 'differential_prediction']\n",
    "ols = sm.OLS(residuals[['y']], test)\n",
    "res = ols.fit().get_robustcov_results(cov_type='HC3')\n",
    "res.summary()"
   ]
  },
  {
   "cell_type": "markdown",
   "id": "ed044c75-f610-440f-86e7-cb09cf20993b",
   "metadata": {},
   "source": [
    "The `mean_predictions` coefficient ($\\beta_{C}$) is close to one, suggesting that the model is well calibrated. The `differential_prediction` ($\\beta_D$) coefficient however is higher than 1. This result, as we saw above, is consistent with this causal forest underestimating the effect of the treatment at the tails of the distribution.\n",
    "\n",
    "The regularization parameters we specified when initiating the model class help with model calibration. Below is the same test, and the distribution of estimated CATEs, for a causal forest model with `econml` defaults on the same data. As you can see, not only the model is clearly not well calibrated, but the estimated distribution of CATEs is very different from that we obtain above. "
   ]
  },
  {
   "cell_type": "code",
   "execution_count": 18,
   "id": "499143fc-9efd-4b4b-93cc-a82b836e46ac",
   "metadata": {
    "jupyter": {
     "source_hidden": true
    },
    "tags": []
   },
   "outputs": [
    {
     "name": "stdout",
     "output_type": "stream",
     "text": [
      "Wall time: 2.08 s\n"
     ]
    },
    {
     "data": {
      "text/html": [
       "<table class=\"simpletable\">\n",
       "<caption>OLS Regression Results</caption>\n",
       "<tr>\n",
       "  <th>Dep. Variable:</th>            <td>y</td>        <th>  R-squared:         </th> <td>   0.151</td> \n",
       "</tr>\n",
       "<tr>\n",
       "  <th>Model:</th>                   <td>OLS</td>       <th>  Adj. R-squared:    </th> <td>   0.151</td> \n",
       "</tr>\n",
       "<tr>\n",
       "  <th>Method:</th>             <td>Least Squares</td>  <th>  F-statistic:       </th> <td>   301.1</td> \n",
       "</tr>\n",
       "<tr>\n",
       "  <th>Date:</th>             <td>Fri, 13 Aug 2021</td> <th>  Prob (F-statistic):</th> <td>7.75e-128</td>\n",
       "</tr>\n",
       "<tr>\n",
       "  <th>Time:</th>                 <td>10:15:10</td>     <th>  Log-Likelihood:    </th> <td>  2848.8</td> \n",
       "</tr>\n",
       "<tr>\n",
       "  <th>No. Observations:</th>      <td> 10328</td>      <th>  AIC:               </th> <td>  -5692.</td> \n",
       "</tr>\n",
       "<tr>\n",
       "  <th>Df Residuals:</th>          <td> 10325</td>      <th>  BIC:               </th> <td>  -5670.</td> \n",
       "</tr>\n",
       "<tr>\n",
       "  <th>Df Model:</th>              <td>     2</td>      <th>                     </th>     <td> </td>    \n",
       "</tr>\n",
       "<tr>\n",
       "  <th>Covariance Type:</th>         <td>HC3</td>       <th>                     </th>     <td> </td>    \n",
       "</tr>\n",
       "</table>\n",
       "<table class=\"simpletable\">\n",
       "<tr>\n",
       "             <td></td>                <th>coef</th>     <th>std err</th>      <th>t</th>      <th>P>|t|</th>  <th>[0.025</th>    <th>0.975]</th>  \n",
       "</tr>\n",
       "<tr>\n",
       "  <th>constant</th>                <td>    0.0005</td> <td>    0.002</td> <td>    0.282</td> <td> 0.778</td> <td>   -0.003</td> <td>    0.004</td>\n",
       "</tr>\n",
       "<tr>\n",
       "  <th>mean_predictions</th>        <td>    0.7089</td> <td>    0.113</td> <td>    6.289</td> <td> 0.000</td> <td>    0.488</td> <td>    0.930</td>\n",
       "</tr>\n",
       "<tr>\n",
       "  <th>differential_prediction</th> <td>    3.5240</td> <td>    0.144</td> <td>   24.449</td> <td> 0.000</td> <td>    3.241</td> <td>    3.807</td>\n",
       "</tr>\n",
       "</table>\n",
       "<table class=\"simpletable\">\n",
       "<tr>\n",
       "  <th>Omnibus:</th>       <td>8465.400</td> <th>  Durbin-Watson:     </th>  <td>   1.894</td> \n",
       "</tr>\n",
       "<tr>\n",
       "  <th>Prob(Omnibus):</th>  <td> 0.000</td>  <th>  Jarque-Bera (JB):  </th> <td>161293.199</td>\n",
       "</tr>\n",
       "<tr>\n",
       "  <th>Skew:</th>           <td> 4.021</td>  <th>  Prob(JB):          </th>  <td>    0.00</td> \n",
       "</tr>\n",
       "<tr>\n",
       "  <th>Kurtosis:</th>       <td>20.610</td>  <th>  Cond. No.          </th>  <td>    62.7</td> \n",
       "</tr>\n",
       "</table><br/><br/>Notes:<br/>[1] Standard Errors are heteroscedasticity robust (HC3)"
      ],
      "text/plain": [
       "<class 'statsmodels.iolib.summary.Summary'>\n",
       "\"\"\"\n",
       "                            OLS Regression Results                            \n",
       "==============================================================================\n",
       "Dep. Variable:                      y   R-squared:                       0.151\n",
       "Model:                            OLS   Adj. R-squared:                  0.151\n",
       "Method:                 Least Squares   F-statistic:                     301.1\n",
       "Date:                Fri, 13 Aug 2021   Prob (F-statistic):          7.75e-128\n",
       "Time:                        10:15:10   Log-Likelihood:                 2848.8\n",
       "No. Observations:               10328   AIC:                            -5692.\n",
       "Df Residuals:                   10325   BIC:                            -5670.\n",
       "Df Model:                           2                                         \n",
       "Covariance Type:                  HC3                                         \n",
       "===========================================================================================\n",
       "                              coef    std err          t      P>|t|      [0.025      0.975]\n",
       "-------------------------------------------------------------------------------------------\n",
       "constant                    0.0005      0.002      0.282      0.778      -0.003       0.004\n",
       "mean_predictions            0.7089      0.113      6.289      0.000       0.488       0.930\n",
       "differential_prediction     3.5240      0.144     24.449      0.000       3.241       3.807\n",
       "==============================================================================\n",
       "Omnibus:                     8465.400   Durbin-Watson:                   1.894\n",
       "Prob(Omnibus):                  0.000   Jarque-Bera (JB):           161293.199\n",
       "Skew:                           4.021   Prob(JB):                         0.00\n",
       "Kurtosis:                      20.610   Cond. No.                         62.7\n",
       "==============================================================================\n",
       "\n",
       "Notes:\n",
       "[1] Standard Errors are heteroscedasticity robust (HC3)\n",
       "\"\"\""
      ]
     },
     "execution_count": 18,
     "metadata": {},
     "output_type": "execute_result"
    }
   ],
   "source": [
    "%%time\n",
    "cfu = CausalForestDML(model_t=model_t, model_y=model_y, cv=cv_splitter, discrete_treatment=True, random_state=cfg.random_state)\n",
    "cfu.fit(y, T.values, X=X)\n",
    "\n",
    "catesu = cfu.marginal_effect(T, X=X).reshape(-1, 1)\n",
    "residuals = DML_diagnostics(cfu).first_stage_residuals(y, T, X=X)\n",
    "C = catesu.mean()*residuals[['T']]\n",
    "D = (catesu - catesu.mean())*residuals[['T']]\n",
    "test=pd.concat(((1-C.isna()), C, D), axis='columns')\n",
    "test.columns = ['constant', 'mean_predictions', 'differential_prediction']\n",
    "ols = sm.OLS(residuals[['y']], test)\n",
    "res = ols.fit().get_robustcov_results(cov_type='HC3')\n",
    "res.summary()"
   ]
  },
  {
   "cell_type": "code",
   "execution_count": 19,
   "id": "bd002c0a-5a25-4c1d-a8c8-e262fdbbcb65",
   "metadata": {
    "jupyter": {
     "source_hidden": true
    },
    "tags": []
   },
   "outputs": [
    {
     "name": "stdout",
     "output_type": "stream",
     "text": [
      "Average in-sample marginal effect: -0.04366\n"
     ]
    },
    {
     "data": {
      "image/png": "[encoded data removed]",
      "text/plain": [
       "<Figure size 720x432 with 1 Axes>"
      ]
     },
     "metadata": {
      "needs_background": "light"
     },
     "output_type": "display_data"
    }
   ],
   "source": [
    "print(f'Average in-sample marginal effect: {catesu.mean():.5f}')\n",
    "fig, ax = plt.subplots(1,1, figsize=(10, 6))\n",
    "\n",
    "sns.histplot(x=catesu[catesu<0].reshape(-1), ax=ax, color='blue')\n",
    "sns.histplot(x=catesu[catesu>0].reshape(-1), ax=ax, color='red')\n",
    "plt.show() "
   ]
  },
  {
   "cell_type": "markdown",
   "id": "8a01995e-efe2-4f45-aff5-38325f85e854",
   "metadata": {},
   "source": [
    "### Characterization of CATEs\n",
    "\n",
    "The downside of the causal forest model is that its results tend to appear like coming from a black box. Up to now, we don't know what features driving the estimated CATEs, and what characterizes the \"high-effect\" subsamples from the \"low-effect\" one.\n",
    "\n",
    "However, even tree-based models are not completely black-box. For example, we can extract feature importances, a measure of how much a feature has been used to split leaves in the forest. A higher feature importance value, the more often a causal forest model uses that feature to identify groups of observations characterized by different effects.\n",
    "\n",
    "If we plot these feature importances, we see that the most important feature is whether the speed limit was less than or equal to 55 MpH. The year of the crash is also important, followed by the weight of the car, and its vintage."
   ]
  },
  {
   "cell_type": "code",
   "execution_count": 20,
   "id": "9a2de3eb-9b7f-4c63-b727-c2388298fe92",
   "metadata": {
    "jupyter": {
     "source_hidden": true
    },
    "tags": []
   },
   "outputs": [
    {
     "data": {
      "image/png": "[encoded data removed]",
      "text/plain": [
       "<Figure size 504x360 with 1 Axes>"
      ]
     },
     "metadata": {
      "needs_background": "light"
     },
     "output_type": "display_data"
    }
   ],
   "source": [
    "importances = pd.DataFrame(cf.feature_importances(), index=X.columns, columns=['importance']).sort_values('importance', ascending=False)\n",
    "importances = importances[importances['importance']>0.05]\n",
    "importances = pd.concat([importances, pd.DataFrame([1 - importances.sum()], index=['other_features'], columns=['importance'])])\n",
    "\n",
    "fig, ax = plt.subplots(1,1, figsize=(7, 5))\n",
    "importances.plot(kind='bar', ax=ax, legend=None, color='black')\n",
    "ax.tick_params(axis='x', rotation=45)\n",
    "ax.set_title('Feature Importance in second stage causal forest')\n",
    "plt.show()"
   ]
  },
  {
   "cell_type": "markdown",
   "id": "4538a9a9-fbb3-4f88-84da-003a77b2b4e1",
   "metadata": {},
   "source": [
    "Armed with this knowledge, which can explore the data, and plot estimated CATEs across these variables to investigate how the effect varies as these variables change. We see that\n",
    "\n",
    "* **Car weight** matters: Protections are more important for small cars.\n",
    "* The effect seems decreasing with **time**, likely as other safety measures are implemented\n",
    "* **Speed limit**, and thereby the likely speed at collision, has the largest impact. Seat protection lowers mortality twice as much where speed limits are above 55 MpH"
   ]
  },
  {
   "cell_type": "code",
   "execution_count": 21,
   "id": "c9158555-e440-4410-a5e8-d3cf444563b2",
   "metadata": {
    "jupyter": {
     "source_hidden": true
    },
    "tags": []
   },
   "outputs": [
    {
     "data": {
      "image/png": "[encoded data removed]",
      "text/plain": [
       "<Figure size 1080x504 with 3 Axes>"
      ]
     },
     "metadata": {
      "needs_background": "light"
     },
     "output_type": "display_data"
    }
   ],
   "source": [
    "from src.dmlutils import binscatter\n",
    "fig, ax = plt.subplots(1,3, figsize=(15, 7), sharex=False, sharey=True)\n",
    "\n",
    "toplot = binscatter(y=pd.DataFrame(cates), x=X[['modelyr']], by=X['splmU55'], nbins=50)\n",
    "sns.scatterplot(data=toplot, x='x', y='y', hue='by', s=100*toplot['count']/toplot['count'].max(), ax=ax[0])\n",
    "ax[0].legend(handles= ax[0].legend_.legendHandles, labels = ['Over 55 Mph', 'Under 55 Mph'], frameon=False)\n",
    "ax[0].set_ylabel('Estimated CATE')\n",
    "ax[0].set_xlabel('Model year')\n",
    "\n",
    "toplot = binscatter(y=pd.DataFrame(cates), x=X[['year']], by=X['splmU55'], nbins=50)\n",
    "sns.scatterplot(data=toplot, x='x', y='y', hue='by', s=100*toplot['count']/toplot['count'].max(), ax=ax[1])\n",
    "ax[1].legend(handles= ax[1].legend_.legendHandles, labels = ['Over 55 Mph', 'Under 55 Mph'], frameon=False)\n",
    "ax[1].set_ylabel('Estimated CATE')\n",
    "ax[1].set_xlabel('Year')\n",
    "\n",
    "toplot = binscatter(y=pd.DataFrame(cates), x=X[['thoulbs_I']]*1000, nbins=50)\n",
    "sns.scatterplot(data=toplot, x='x', y='y', s=300*toplot['count']/toplot['count'].max(), ax=ax[2], color='black')\n",
    "# ax[1].set_ylabel('Estimated CATE')\n",
    "ax[2].set_xlabel('Car weight (lbs)')\n",
    "ax[2].set_xlim(1500,5000)\n",
    "\n",
    "plt.show()"
   ]
  },
  {
   "cell_type": "markdown",
   "id": "375f7f69-5d6e-41c8-802f-dea7a21d6332",
   "metadata": {},
   "source": [
    "Indeed, if we plot the distribution of estimated CATEs sperately by speed limit, we see that the two modes in the distribution are determined by speed limit alone."
   ]
  },
  {
   "cell_type": "code",
   "execution_count": 22,
   "id": "d1a2e96a-18ba-49da-a03c-c9f89ef3500b",
   "metadata": {
    "jupyter": {
     "source_hidden": true
    },
    "tags": []
   },
   "outputs": [
    {
     "data": {
      "image/png": "[encoded data removed]",
      "text/plain": [
       "<Figure size 720x432 with 1 Axes>"
      ]
     },
     "metadata": {
      "needs_background": "light"
     },
     "output_type": "display_data"
    }
   ],
   "source": [
    "fig, ax = plt.subplots(1,1, figsize=(10, 6))\n",
    "\n",
    "sns.histplot(x=cates[X['splmU55']==1].reshape(-1), ax=ax, color='blue', binwidth=0.001, alpha=0.5, label = 'Under 55 MpH')\n",
    "sns.histplot(x=cates[X['splmU55']==0].reshape(-1), ax=ax, color='red', binwidth=0.001, alpha=0.5, label='Over 55 MpH')\n",
    "ax.legend(frameon=False, title='Speed limit')\n",
    "plt.show() "
   ]
  },
  {
   "cell_type": "markdown",
   "id": "cb1cf729-0699-484d-a171-e9ac25737063",
   "metadata": {},
   "source": [
    "We do not have to trust blindly the estimates of a causal forest model however. Armed with the insight gathered above, we can then test our data-driven hypotheses with a more transparent linear model. Here we are using a DML model, where the treatment coefficient is interacted with the variables highlighted above. Alternatively, we could use a standard OLS. \n",
    "\n",
    "Note that in the rightmost plot above I removed observations where car weight is equal to zero. These are likely missing observations. In the interactions below, we impute the average observed weight when weight is zero, and add a dummy indicating where the imputation took place.\n",
    "\n",
    "Out test confirm some, but not all our intuitions. Speed limit is important, and so is car weight. Where the speed limit is above 55 MpH (note that the indicator in the data is equal to one when the speed limit is **under** 55Mph), seat protections are much more effective, and similarly for smaller cars. Year and model year however do not seem to matter statistically."
   ]
  },
  {
   "cell_type": "code",
   "execution_count": 23,
   "id": "7db78ddc-c123-4a49-90e5-137355d5f2ad",
   "metadata": {
    "jupyter": {
     "source_hidden": true
    },
    "tags": []
   },
   "outputs": [
    {
     "data": {
      "text/html": [
       "<table class=\"simpletable\">\n",
       "<caption>Coefficient Results</caption>\n",
       "<tr>\n",
       "         <td></td>        <th>point_estimate</th> <th>stderr</th> <th>zstat</th> <th>pvalue</th> <th>ci_lower</th> <th>ci_upper</th>\n",
       "</tr>\n",
       "<tr>\n",
       "  <th>splmU55</th>             <td>0.081</td>      <td>0.028</td> <td>2.937</td>  <td>0.003</td>   <td>0.036</td>    <td>0.127</td> \n",
       "</tr>\n",
       "<tr>\n",
       "  <th>year</th>               <td>-0.002</td>      <td>0.002</td> <td>-0.92</td>  <td>0.357</td>  <td>-0.004</td>    <td>0.001</td> \n",
       "</tr>\n",
       "<tr>\n",
       "  <th>thoulbs_I</th>           <td>0.036</td>      <td>0.012</td> <td>3.145</td>  <td>0.002</td>   <td>0.017</td>    <td>0.055</td> \n",
       "</tr>\n",
       "<tr>\n",
       "  <th>modelyr</th>              <td>0.0</td>       <td>0.001</td> <td>0.141</td>  <td>0.888</td>  <td>-0.002</td>    <td>0.002</td> \n",
       "</tr>\n",
       "<tr>\n",
       "  <th>missing_weight</th>      <td>0.022</td>      <td>0.014</td> <td>1.587</td>  <td>0.112</td>  <td>-0.001</td>    <td>0.045</td> \n",
       "</tr>\n",
       "</table>\n",
       "<table class=\"simpletable\">\n",
       "<caption>CATE Intercept Results</caption>\n",
       "<tr>\n",
       "         <td></td>        <th>point_estimate</th> <th>stderr</th> <th>zstat</th> <th>pvalue</th> <th>ci_lower</th> <th>ci_upper</th>\n",
       "</tr>\n",
       "<tr>\n",
       "  <th>cate_intercept</th>      <td>2.45</td>       <td>2.51</td>  <td>0.976</td>  <td>0.329</td>  <td>-1.678</td>    <td>6.579</td> \n",
       "</tr>\n",
       "</table><br/><br/><sub>A linear parametric conditional average treatment effect (CATE) model was fitted:<br/>$Y = \\Theta(X)\\cdot T + g(X, W) + \\epsilon$<br/>where for every outcome $i$ and treatment $j$ the CATE $\\Theta_{ij}(X)$ has the form:<br/>$\\Theta_{ij}(X) = \\phi(X)' coef_{ij} + cate\\_intercept_{ij}$<br/>where $\\phi(X)$ is the output of the `featurizer` or $X$ if `featurizer`=None. Coefficient Results table portrays the $coef_{ij}$ parameter vector for each outcome $i$ and treatment $j$. Intercept Results table portrays the $cate\\_intercept_{ij}$ parameter.</sub>"
      ],
      "text/plain": [
       "<class 'econml.utilities.Summary'>\n",
       "\"\"\"\n",
       "                        Coefficient Results                        \n",
       "===================================================================\n",
       "               point_estimate stderr zstat pvalue ci_lower ci_upper\n",
       "-------------------------------------------------------------------\n",
       "splmU55                 0.081  0.028 2.937  0.003    0.036    0.127\n",
       "year                   -0.002  0.002 -0.92  0.357   -0.004    0.001\n",
       "thoulbs_I               0.036  0.012 3.145  0.002    0.017    0.055\n",
       "modelyr                   0.0  0.001 0.141  0.888   -0.002    0.002\n",
       "missing_weight          0.022  0.014 1.587  0.112   -0.001    0.045\n",
       "                       CATE Intercept Results                      \n",
       "===================================================================\n",
       "               point_estimate stderr zstat pvalue ci_lower ci_upper\n",
       "-------------------------------------------------------------------\n",
       "cate_intercept           2.45   2.51 0.976  0.329   -1.678    6.579\n",
       "-------------------------------------------------------------------\n",
       "\n",
       "<sub>A linear parametric conditional average treatment effect (CATE) model was fitted:\n",
       "$Y = \\Theta(X)\\cdot T + g(X, W) + \\epsilon$\n",
       "where for every outcome $i$ and treatment $j$ the CATE $\\Theta_{ij}(X)$ has the form:\n",
       "$\\Theta_{ij}(X) = \\phi(X)' coef_{ij} + cate\\_intercept_{ij}$\n",
       "where $\\phi(X)$ is the output of the `featurizer` or $X$ if `featurizer`=None. Coefficient Results table portrays the $coef_{ij}$ parameter vector for each outcome $i$ and treatment $j$. Intercept Results table portrays the $cate\\_intercept_{ij}$ parameter.</sub>\n",
       "\"\"\""
      ]
     },
     "execution_count": 23,
     "metadata": {},
     "output_type": "execute_result"
    }
   ],
   "source": [
    "X_vars = ['splmU55', 'year', 'thoulbs_I', 'modelyr']\n",
    "W = df_sel[[col for col in df_sel.columns if col not in ['lapbelt', 'lapshould', 'childseat'] + X_vars]]\n",
    "W = pipe.fit_transform(W)\n",
    "X = df_sel[X_vars].copy()\n",
    "X.loc[:, 'missing_weight'] = X.loc[:, 'thoulbs_I']==0\n",
    "X.loc[X['thoulbs_I']==0, 'thoulbs_I'] = X.loc[X['thoulbs_I']>0, 'thoulbs_I'].mean()\n",
    "\n",
    "# Fit the model and show the coefficients\n",
    "dml_interactions = LinearDML(model_t=model_t, model_y=model_y, cv=cv_splitter, discrete_treatment=True, fit_cate_intercept=True)\n",
    "dml_interactions.fit(y, T.values, X=X, W=W)\n",
    "dml_interactions.summary()"
   ]
  },
  {
   "cell_type": "markdown",
   "id": "b3ba81db-9ed0-4fc0-9371-3d0a191a3447",
   "metadata": {},
   "source": [
    "## Policy Learning"
   ]
  }
 ],
 "metadata": {
  "kernelspec": {
   "display_name": "Python 3",
   "language": "python",
   "name": "python3"
  },
  "language_info": {
   "codemirror_mode": {
    "name": "ipython",
    "version": 3
   },
   "file_extension": ".py",
   "mimetype": "text/x-python",
   "name": "python",
   "nbconvert_exporter": "python",
   "pygments_lexer": "ipython3",
   "version": "3.8.10"
  }
 },
 "nbformat": 4,
 "nbformat_minor": 5
}
