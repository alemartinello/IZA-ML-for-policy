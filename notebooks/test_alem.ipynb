{
 "cells": [
  {
   "cell_type": "code",
   "execution_count": 31,
   "id": "8cb0e256-1e56-486c-bf39-455bf56b925a",
   "metadata": {},
   "outputs": [
    {
     "name": "stdout",
     "output_type": "stream",
     "text": [
      "The autoreload extension is already loaded. To reload it, use:\n",
      "  %reload_ext autoreload\n"
     ]
    }
   ],
   "source": []
  },
  {
   "cell_type": "markdown",
   "id": "fabf7215-61df-4728-b7fe-f7b5c74b6ea6",
   "metadata": {},
   "source": [
    "# IZA paper - Empirical example\n",
    "\n",
    "Lauren Jones and Nicolas Ziebarth, \"Successful Scientific Replication and Extension of Levitt (2008): Child Seats Are Still No Safer than Seat Belts\", *Journal of Applied Econometrics*, Vol. 31, No. 5, 2016, pp. 920-928.\n",
    "\n",
    "[Link to material](http://qed.econ.queensu.ca/jae/datasets/jones004/)"
   ]
  },
  {
   "cell_type": "code",
   "execution_count": 2,
   "id": "067301d8-9729-4ca0-b185-fda3196ec2b1",
   "metadata": {},
   "outputs": [],
   "source": [
    "%load_ext autoreload\n",
    "%autoreload 2\n",
    "import pandas as pd\n",
    "import numpy as np\n",
    "from pathlib import Path\n",
    "from sklearn.experimental import enable_hist_gradient_boosting\n",
    "from sklearn.ensemble import HistGradientBoostingClassifier, HistGradientBoostingRegressor\n",
    "from sklearn.metrics import r2_score\n",
    "from sklearn.linear_model import LinearRegression\n",
    "from sklearn.model_selection import KFold\n",
    "from econml.dml import LinearDML, CausalForestDML\n",
    "\n",
    "# User-written utilities - these are under src/ in the GitHub repositories \n",
    "import sys\n",
    "sys.path.append('..')\n",
    "import src.config as cfg\n",
    "import src.features as ft\n",
    "from src.dmlutils import DML_diagnostics"
   ]
  },
  {
   "cell_type": "code",
   "execution_count": 3,
   "id": "154cf452-b136-4e94-b782-8d1b62f82a40",
   "metadata": {},
   "outputs": [
    {
     "name": "stdout",
     "output_type": "stream",
     "text": [
      "38455\n"
     ]
    }
   ],
   "source": [
    "df = pd.read_csv(Path('../data/FARS-data-full-sample.txt'), sep='\\t')\n",
    "# The replication does not use whether child seat or belt were improperly used, and thereafter drops rows with missing values in them\n",
    "df_repl = df[[feat for feat in df.columns if not feat.startswith('imp')]]\n",
    "df_repl = df_repl[~df_repl.isna().max(axis=1)]\n",
    "df_repl['modelyr'] = df_repl['modelyr'].astype(int)\n",
    "df_repl = df_repl[df_repl['year']<=2003]\n",
    "df_repl['car_age'] = df_repl['year'] - df_repl['modelyr']\n",
    "print(len(df_repl))"
   ]
  },
  {
   "cell_type": "code",
   "execution_count": 4,
   "id": "61ef507e-e6e3-473e-9b8e-759fb9a3ad70",
   "metadata": {},
   "outputs": [],
   "source": [
    "pipe = ft.construct_data_pipeline(pd_output=True)\n",
    "cv_splitter = KFold(2, shuffle=True, random_state=cfg.random_state)"
   ]
  },
  {
   "cell_type": "markdown",
   "id": "b5760a00-8e0e-4eae-9555-e380ab377c46",
   "metadata": {},
   "source": [
    "## Full sample replication with DML"
   ]
  },
  {
   "cell_type": "code",
   "execution_count": 5,
   "id": "8cd152ca-b978-4e05-8166-14ff5d29e65c",
   "metadata": {},
   "outputs": [],
   "source": [
    "y = df_repl['death']\n",
    "T = df_repl['restraint']\n",
    "W = df_repl[[col for col in df_repl.columns if col not in ['lapbelt', 'lapshould', 'childseat']]]"
   ]
  },
  {
   "cell_type": "code",
   "execution_count": 6,
   "id": "5ac0c67b-9af4-4b8e-a6aa-8d4924c3ab96",
   "metadata": {},
   "outputs": [
    {
     "name": "stdout",
     "output_type": "stream",
     "text": [
      "CPU times: user 43.4 s, sys: 1.59 s, total: 45 s\n",
      "Wall time: 4.01 s\n"
     ]
    },
    {
     "data": {
      "text/plain": [
       "<econml.dml.dml.LinearDML at 0x7fa58c778ca0>"
      ]
     },
     "execution_count": 6,
     "metadata": {},
     "output_type": "execute_result"
    }
   ],
   "source": [
    "%%time\n",
    "model_t = HistGradientBoostingClassifier(max_iter=100, n_iter_no_change=10, max_depth=5, early_stopping=True, random_state=cfg.random_state)\n",
    "model_y = HistGradientBoostingRegressor(max_iter=100, n_iter_no_change=10, max_depth=5, early_stopping=True, random_state=cfg.random_state)\n",
    "dml = LinearDML(model_t=model_t, model_y=model_y, cv=cv_splitter, discrete_treatment=True, fit_cate_intercept=True)\n",
    "dml.fit(y, T.values, W=pipe.fit_transform(W))"
   ]
  },
  {
   "cell_type": "code",
   "execution_count": 7,
   "id": "2fd37959-48ff-4ac7-a6ac-6030d3ec32e5",
   "metadata": {},
   "outputs": [
    {
     "data": {
      "text/html": [
       "<div>\n",
       "<style scoped>\n",
       "    .dataframe tbody tr th:only-of-type {\n",
       "        vertical-align: middle;\n",
       "    }\n",
       "\n",
       "    .dataframe tbody tr th {\n",
       "        vertical-align: top;\n",
       "    }\n",
       "\n",
       "    .dataframe thead th {\n",
       "        text-align: right;\n",
       "    }\n",
       "</style>\n",
       "<table border=\"1\" class=\"dataframe\">\n",
       "  <thead>\n",
       "    <tr style=\"text-align: right;\">\n",
       "      <th></th>\n",
       "      <th></th>\n",
       "      <th>point_estimate</th>\n",
       "      <th>stderr</th>\n",
       "      <th>zstat</th>\n",
       "      <th>pvalue</th>\n",
       "      <th>ci_lower</th>\n",
       "      <th>ci_upper</th>\n",
       "    </tr>\n",
       "    <tr>\n",
       "      <th>X</th>\n",
       "      <th>T</th>\n",
       "      <th></th>\n",
       "      <th></th>\n",
       "      <th></th>\n",
       "      <th></th>\n",
       "      <th></th>\n",
       "      <th></th>\n",
       "    </tr>\n",
       "  </thead>\n",
       "  <tbody>\n",
       "    <tr>\n",
       "      <th rowspan=\"3\" valign=\"top\">cate_intercept</th>\n",
       "      <th>T0_1_childseat</th>\n",
       "      <td>-0.127</td>\n",
       "      <td>0.006</td>\n",
       "      <td>-20.750</td>\n",
       "      <td>0.0</td>\n",
       "      <td>-0.137</td>\n",
       "      <td>-0.117</td>\n",
       "    </tr>\n",
       "    <tr>\n",
       "      <th>T0_2_lap only belt</th>\n",
       "      <td>-0.109</td>\n",
       "      <td>0.007</td>\n",
       "      <td>-16.619</td>\n",
       "      <td>0.0</td>\n",
       "      <td>-0.120</td>\n",
       "      <td>-0.098</td>\n",
       "    </tr>\n",
       "    <tr>\n",
       "      <th>T0_3_lap/should belt</th>\n",
       "      <td>-0.149</td>\n",
       "      <td>0.007</td>\n",
       "      <td>-21.023</td>\n",
       "      <td>0.0</td>\n",
       "      <td>-0.160</td>\n",
       "      <td>-0.137</td>\n",
       "    </tr>\n",
       "  </tbody>\n",
       "</table>\n",
       "</div>"
      ],
      "text/plain": [
       "                                     point_estimate  stderr   zstat  pvalue  \\\n",
       "X              T                                                              \n",
       "cate_intercept T0_1_childseat                -0.127   0.006 -20.750     0.0   \n",
       "               T0_2_lap only belt            -0.109   0.007 -16.619     0.0   \n",
       "               T0_3_lap/should belt          -0.149   0.007 -21.023     0.0   \n",
       "\n",
       "                                     ci_lower  ci_upper  \n",
       "X              T                                         \n",
       "cate_intercept T0_1_childseat          -0.137    -0.117  \n",
       "               T0_2_lap only belt      -0.120    -0.098  \n",
       "               T0_3_lap/should belt    -0.160    -0.137  "
      ]
     },
     "execution_count": 7,
     "metadata": {},
     "output_type": "execute_result"
    }
   ],
   "source": [
    "inf = dml.intercept__inference()\n",
    "inf.summary_frame()"
   ]
  },
  {
   "cell_type": "markdown",
   "id": "e7a068f5-9b1d-40d0-8dc1-5e3b9cb0a0d7",
   "metadata": {},
   "source": [
    "### Comparison with OLS benchmark"
   ]
  },
  {
   "cell_type": "code",
   "execution_count": 8,
   "id": "a4a9dc33-a17b-490d-b970-660423a5425d",
   "metadata": {},
   "outputs": [
    {
     "name": "stdout",
     "output_type": "stream",
     "text": [
      "CPU times: user 1.48 s, sys: 1.03 s, total: 2.51 s\n",
      "Wall time: 303 ms\n"
     ]
    },
    {
     "data": {
      "text/plain": [
       "<econml.dml.dml.LinearDML at 0x7fa58c778c40>"
      ]
     },
     "execution_count": 8,
     "metadata": {},
     "output_type": "execute_result"
    }
   ],
   "source": [
    "%%time\n",
    "Tb = T.str[0].astype(int)>0\n",
    "model_t = LinearRegression()\n",
    "model_y = LinearRegression()\n",
    "bmark = LinearDML(model_t=model_t, model_y=model_y, cv=cv_splitter, discrete_treatment=False, fit_cate_intercept=True)\n",
    "\n",
    "bmark.fit(y, Tb.values, W=pipe.fit_transform(W))"
   ]
  },
  {
   "cell_type": "code",
   "execution_count": 9,
   "id": "67493596-2166-4f12-bef4-3f69fd9185e1",
   "metadata": {},
   "outputs": [
    {
     "data": {
      "text/html": [
       "<div>\n",
       "<style scoped>\n",
       "    .dataframe tbody tr th:only-of-type {\n",
       "        vertical-align: middle;\n",
       "    }\n",
       "\n",
       "    .dataframe tbody tr th {\n",
       "        vertical-align: top;\n",
       "    }\n",
       "\n",
       "    .dataframe thead th {\n",
       "        text-align: right;\n",
       "    }\n",
       "</style>\n",
       "<table border=\"1\" class=\"dataframe\">\n",
       "  <thead>\n",
       "    <tr style=\"text-align: right;\">\n",
       "      <th></th>\n",
       "      <th>point_estimate</th>\n",
       "      <th>stderr</th>\n",
       "      <th>zstat</th>\n",
       "      <th>pvalue</th>\n",
       "      <th>ci_lower</th>\n",
       "      <th>ci_upper</th>\n",
       "    </tr>\n",
       "    <tr>\n",
       "      <th>X</th>\n",
       "      <th></th>\n",
       "      <th></th>\n",
       "      <th></th>\n",
       "      <th></th>\n",
       "      <th></th>\n",
       "      <th></th>\n",
       "    </tr>\n",
       "  </thead>\n",
       "  <tbody>\n",
       "    <tr>\n",
       "      <th>cate_intercept</th>\n",
       "      <td>-0.118</td>\n",
       "      <td>0.005</td>\n",
       "      <td>-22.452</td>\n",
       "      <td>0.0</td>\n",
       "      <td>-0.127</td>\n",
       "      <td>-0.109</td>\n",
       "    </tr>\n",
       "  </tbody>\n",
       "</table>\n",
       "</div>"
      ],
      "text/plain": [
       "                point_estimate  stderr   zstat  pvalue  ci_lower  ci_upper\n",
       "X                                                                         \n",
       "cate_intercept          -0.118   0.005 -22.452     0.0    -0.127    -0.109"
      ]
     },
     "execution_count": 9,
     "metadata": {},
     "output_type": "execute_result"
    }
   ],
   "source": [
    "inf = bmark.intercept__inference()\n",
    "inf.summary_frame()"
   ]
  },
  {
   "cell_type": "code",
   "execution_count": 10,
   "id": "f53f300b-691b-41f6-b2d3-c652eebf3eb7",
   "metadata": {},
   "outputs": [
    {
     "data": {
      "text/html": [
       "<div>\n",
       "<style scoped>\n",
       "    .dataframe tbody tr th:only-of-type {\n",
       "        vertical-align: middle;\n",
       "    }\n",
       "\n",
       "    .dataframe tbody tr th {\n",
       "        vertical-align: top;\n",
       "    }\n",
       "\n",
       "    .dataframe thead th {\n",
       "        text-align: right;\n",
       "    }\n",
       "</style>\n",
       "<table border=\"1\" class=\"dataframe\">\n",
       "  <thead>\n",
       "    <tr style=\"text-align: right;\">\n",
       "      <th></th>\n",
       "      <th>R2 y</th>\n",
       "      <th>R2 T</th>\n",
       "    </tr>\n",
       "  </thead>\n",
       "  <tbody>\n",
       "    <tr>\n",
       "      <th>DML</th>\n",
       "      <td>0.081407</td>\n",
       "      <td>0.367481</td>\n",
       "    </tr>\n",
       "    <tr>\n",
       "      <th>OLS benchmark</th>\n",
       "      <td>0.060411</td>\n",
       "      <td>0.357275</td>\n",
       "    </tr>\n",
       "  </tbody>\n",
       "</table>\n",
       "</div>"
      ],
      "text/plain": [
       "                   R2 y      R2 T\n",
       "DML            0.081407  0.367481\n",
       "OLS benchmark  0.060411  0.357275"
      ]
     },
     "execution_count": 10,
     "metadata": {},
     "output_type": "execute_result"
    }
   ],
   "source": [
    "diag = DML_diagnostics(dml)\n",
    "bdiag = DML_diagnostics(bmark)\n",
    "pd.DataFrame([\n",
    "        [r2_score(y, diag.predict_y(W=pipe.transform(W))), r2_score(T.str[0].astype(int)>0, diag.predict_T(W=pipe.transform(W)))],\n",
    "        [r2_score(y, bdiag.predict_y(W=pipe.transform(W))), r2_score(Tb, bdiag.predict_T(W=pipe.transform(W)))]\n",
    "    ]\n",
    "    , index=['DML', 'OLS benchmark'], columns=['R2 y', 'R2 T']\n",
    ")"
   ]
  },
  {
   "cell_type": "markdown",
   "id": "71395b29-56f2-4eb9-987e-1c251b1c56d3",
   "metadata": {},
   "source": [
    "## Selected sample replication (causal)"
   ]
  },
  {
   "cell_type": "code",
   "execution_count": 11,
   "id": "85b8ebc2-77be-4aba-b54a-5e838625b742",
   "metadata": {},
   "outputs": [],
   "source": [
    "df = pd.read_csv(Path('../data/FARS-data-selection-sample.txt'), sep='\\t')\n",
    "# The replication does not use whether child seat or belt were improperly used, and thereafter drops rows with missing values in them\n",
    "df_sel = df[[feat for feat in df.columns if not feat.startswith('imp')]]\n",
    "df_sel = df_sel[~df_sel.isna().max(axis=1)]\n",
    "df_sel['modelyr'] = df_sel['modelyr'].astype(int)\n",
    "df_sel = df_sel[df_sel['year']<=2003]\n",
    "df_sel['car_age'] = df_sel['year'] - df_sel['modelyr']"
   ]
  },
  {
   "cell_type": "code",
   "execution_count": 12,
   "id": "a4997a8b-3cc0-4fb4-a7f9-89c6aecd935a",
   "metadata": {},
   "outputs": [],
   "source": [
    "y = df_sel['death']\n",
    "T = df_sel['restraint']\n",
    "W = df_sel[[col for col in df_sel.columns if col not in ['lapbelt', 'lapshould', 'childseat']]]"
   ]
  },
  {
   "cell_type": "code",
   "execution_count": 13,
   "id": "8bc0a98f-e02a-4927-bcc1-21a7f2640e05",
   "metadata": {},
   "outputs": [
    {
     "name": "stdout",
     "output_type": "stream",
     "text": [
      "CPU times: user 16.2 s, sys: 1.22 s, total: 17.4 s\n",
      "Wall time: 1.51 s\n"
     ]
    },
    {
     "data": {
      "text/plain": [
       "<econml.dml.dml.LinearDML at 0x7fa58be28fd0>"
      ]
     },
     "execution_count": 13,
     "metadata": {},
     "output_type": "execute_result"
    }
   ],
   "source": [
    "%%time\n",
    "model_t = HistGradientBoostingClassifier(max_iter=100, n_iter_no_change=10, max_depth=5, early_stopping=True, random_state=cfg.random_state)\n",
    "model_y = HistGradientBoostingRegressor(max_iter=100, n_iter_no_change=10, max_depth=5, early_stopping=True, random_state=cfg.random_state)\n",
    "dml = LinearDML(model_t=model_t, model_y=model_y, cv=cv_splitter, discrete_treatment=True, fit_cate_intercept=True)\n",
    "dml.fit(y, T.values, W=pipe.fit_transform(W))"
   ]
  },
  {
   "cell_type": "code",
   "execution_count": 14,
   "id": "5dbeca94-6203-4548-a778-fc12061acaa6",
   "metadata": {},
   "outputs": [
    {
     "data": {
      "text/html": [
       "<div>\n",
       "<style scoped>\n",
       "    .dataframe tbody tr th:only-of-type {\n",
       "        vertical-align: middle;\n",
       "    }\n",
       "\n",
       "    .dataframe tbody tr th {\n",
       "        vertical-align: top;\n",
       "    }\n",
       "\n",
       "    .dataframe thead th {\n",
       "        text-align: right;\n",
       "    }\n",
       "</style>\n",
       "<table border=\"1\" class=\"dataframe\">\n",
       "  <thead>\n",
       "    <tr style=\"text-align: right;\">\n",
       "      <th></th>\n",
       "      <th></th>\n",
       "      <th>point_estimate</th>\n",
       "      <th>stderr</th>\n",
       "      <th>zstat</th>\n",
       "      <th>pvalue</th>\n",
       "      <th>ci_lower</th>\n",
       "      <th>ci_upper</th>\n",
       "    </tr>\n",
       "    <tr>\n",
       "      <th>X</th>\n",
       "      <th>T</th>\n",
       "      <th></th>\n",
       "      <th></th>\n",
       "      <th></th>\n",
       "      <th></th>\n",
       "      <th></th>\n",
       "      <th></th>\n",
       "    </tr>\n",
       "  </thead>\n",
       "  <tbody>\n",
       "    <tr>\n",
       "      <th rowspan=\"3\" valign=\"top\">cate_intercept</th>\n",
       "      <th>T0_1_childseat</th>\n",
       "      <td>-0.048</td>\n",
       "      <td>0.007</td>\n",
       "      <td>-6.873</td>\n",
       "      <td>0.0</td>\n",
       "      <td>-0.059</td>\n",
       "      <td>-0.036</td>\n",
       "    </tr>\n",
       "    <tr>\n",
       "      <th>T0_2_lap only belt</th>\n",
       "      <td>-0.048</td>\n",
       "      <td>0.007</td>\n",
       "      <td>-6.861</td>\n",
       "      <td>0.0</td>\n",
       "      <td>-0.060</td>\n",
       "      <td>-0.037</td>\n",
       "    </tr>\n",
       "    <tr>\n",
       "      <th>T0_3_lap/should belt</th>\n",
       "      <td>-0.054</td>\n",
       "      <td>0.007</td>\n",
       "      <td>-7.188</td>\n",
       "      <td>0.0</td>\n",
       "      <td>-0.066</td>\n",
       "      <td>-0.041</td>\n",
       "    </tr>\n",
       "  </tbody>\n",
       "</table>\n",
       "</div>"
      ],
      "text/plain": [
       "                                     point_estimate  stderr  zstat  pvalue  \\\n",
       "X              T                                                             \n",
       "cate_intercept T0_1_childseat                -0.048   0.007 -6.873     0.0   \n",
       "               T0_2_lap only belt            -0.048   0.007 -6.861     0.0   \n",
       "               T0_3_lap/should belt          -0.054   0.007 -7.188     0.0   \n",
       "\n",
       "                                     ci_lower  ci_upper  \n",
       "X              T                                         \n",
       "cate_intercept T0_1_childseat          -0.059    -0.036  \n",
       "               T0_2_lap only belt      -0.060    -0.037  \n",
       "               T0_3_lap/should belt    -0.066    -0.041  "
      ]
     },
     "execution_count": 14,
     "metadata": {},
     "output_type": "execute_result"
    }
   ],
   "source": [
    "inf = dml.intercept__inference()\n",
    "inf.summary_frame()"
   ]
  },
  {
   "cell_type": "markdown",
   "id": "4f945f07-9ac1-4609-856e-54303f204218",
   "metadata": {},
   "source": [
    "### Comparison with OLS benchmark"
   ]
  },
  {
   "cell_type": "code",
   "execution_count": 15,
   "id": "9ca59978-7e1f-4cc9-8983-09c613eba4dd",
   "metadata": {},
   "outputs": [
    {
     "name": "stdout",
     "output_type": "stream",
     "text": [
      "CPU times: user 364 ms, sys: 339 ms, total: 703 ms\n",
      "Wall time: 89.1 ms\n"
     ]
    },
    {
     "data": {
      "text/plain": [
       "<econml.dml.dml.LinearDML at 0x7fa58be50fd0>"
      ]
     },
     "execution_count": 15,
     "metadata": {},
     "output_type": "execute_result"
    }
   ],
   "source": [
    "%%time\n",
    "Tb = T.str[0].astype(int)>0\n",
    "model_t = LinearRegression()\n",
    "model_y = LinearRegression()\n",
    "bmark = LinearDML(model_t=model_t, model_y=model_y, cv=cv_splitter, discrete_treatment=False, fit_cate_intercept=True)\n",
    "\n",
    "bmark.fit(y, Tb.values, W=pipe.fit_transform(W))"
   ]
  },
  {
   "cell_type": "code",
   "execution_count": 16,
   "id": "e7ccf720-f60a-4179-a4a5-48ec60734d23",
   "metadata": {},
   "outputs": [
    {
     "data": {
      "text/html": [
       "<div>\n",
       "<style scoped>\n",
       "    .dataframe tbody tr th:only-of-type {\n",
       "        vertical-align: middle;\n",
       "    }\n",
       "\n",
       "    .dataframe tbody tr th {\n",
       "        vertical-align: top;\n",
       "    }\n",
       "\n",
       "    .dataframe thead th {\n",
       "        text-align: right;\n",
       "    }\n",
       "</style>\n",
       "<table border=\"1\" class=\"dataframe\">\n",
       "  <thead>\n",
       "    <tr style=\"text-align: right;\">\n",
       "      <th></th>\n",
       "      <th>point_estimate</th>\n",
       "      <th>stderr</th>\n",
       "      <th>zstat</th>\n",
       "      <th>pvalue</th>\n",
       "      <th>ci_lower</th>\n",
       "      <th>ci_upper</th>\n",
       "    </tr>\n",
       "    <tr>\n",
       "      <th>X</th>\n",
       "      <th></th>\n",
       "      <th></th>\n",
       "      <th></th>\n",
       "      <th></th>\n",
       "      <th></th>\n",
       "      <th></th>\n",
       "    </tr>\n",
       "  </thead>\n",
       "  <tbody>\n",
       "    <tr>\n",
       "      <th>cate_intercept</th>\n",
       "      <td>-0.049</td>\n",
       "      <td>0.006</td>\n",
       "      <td>-7.724</td>\n",
       "      <td>0.0</td>\n",
       "      <td>-0.06</td>\n",
       "      <td>-0.039</td>\n",
       "    </tr>\n",
       "  </tbody>\n",
       "</table>\n",
       "</div>"
      ],
      "text/plain": [
       "                point_estimate  stderr  zstat  pvalue  ci_lower  ci_upper\n",
       "X                                                                        \n",
       "cate_intercept          -0.049   0.006 -7.724     0.0     -0.06    -0.039"
      ]
     },
     "execution_count": 16,
     "metadata": {},
     "output_type": "execute_result"
    }
   ],
   "source": [
    "inf = bmark.intercept__inference()\n",
    "inf.summary_frame()"
   ]
  },
  {
   "cell_type": "code",
   "execution_count": 17,
   "id": "dfa5791d-6a4c-47fc-bf5c-f2e84d3571d6",
   "metadata": {},
   "outputs": [
    {
     "data": {
      "text/html": [
       "<div>\n",
       "<style scoped>\n",
       "    .dataframe tbody tr th:only-of-type {\n",
       "        vertical-align: middle;\n",
       "    }\n",
       "\n",
       "    .dataframe tbody tr th {\n",
       "        vertical-align: top;\n",
       "    }\n",
       "\n",
       "    .dataframe thead th {\n",
       "        text-align: right;\n",
       "    }\n",
       "</style>\n",
       "<table border=\"1\" class=\"dataframe\">\n",
       "  <thead>\n",
       "    <tr style=\"text-align: right;\">\n",
       "      <th></th>\n",
       "      <th>R2 y</th>\n",
       "      <th>R2 T</th>\n",
       "    </tr>\n",
       "  </thead>\n",
       "  <tbody>\n",
       "    <tr>\n",
       "      <th>DML</th>\n",
       "      <td>0.018189</td>\n",
       "      <td>0.406288</td>\n",
       "    </tr>\n",
       "    <tr>\n",
       "      <th>OLS benchmark</th>\n",
       "      <td>0.021398</td>\n",
       "      <td>0.400945</td>\n",
       "    </tr>\n",
       "  </tbody>\n",
       "</table>\n",
       "</div>"
      ],
      "text/plain": [
       "                   R2 y      R2 T\n",
       "DML            0.018189  0.406288\n",
       "OLS benchmark  0.021398  0.400945"
      ]
     },
     "execution_count": 17,
     "metadata": {},
     "output_type": "execute_result"
    }
   ],
   "source": [
    "diag = DML_diagnostics(dml)\n",
    "bdiag = DML_diagnostics(bmark)\n",
    "pd.DataFrame([\n",
    "        [r2_score(y, diag.predict_y(W=pipe.transform(W))), r2_score(T.str[0].astype(int)>0, diag.predict_T(W=pipe.transform(W)))],\n",
    "        [r2_score(y, bdiag.predict_y(W=pipe.transform(W))), r2_score(Tb, bdiag.predict_T(W=pipe.transform(W)))]\n",
    "    ]\n",
    "    , index=['DML', 'OLS benchmark'], columns=['R2 y', 'R2 T']\n",
    ")"
   ]
  },
  {
   "cell_type": "markdown",
   "id": "e5026ed3-a5c0-46f0-83f7-1b6e97886c8d",
   "metadata": {
    "tags": []
   },
   "source": [
    "## Causal forests\n",
    "\n",
    "For simplicity, we collapse the treatment arms into havign any child protection (any of the treatment arms) or not."
   ]
  },
  {
   "cell_type": "code",
   "execution_count": 18,
   "id": "8e3840fe-63be-46dc-8bab-33cc66cb4181",
   "metadata": {},
   "outputs": [],
   "source": [
    "from copy import deepcopy\n",
    "feats = deepcopy(ft.feat_type)\n",
    "feats['categorical'] = ['crashtm']\n",
    "feats['ordinal'] = feats['ordinal'] + ['year', 'modelyr']\n",
    "pipe = ft.construct_data_pipeline(feat_type=feats, pd_output=True)"
   ]
  },
  {
   "cell_type": "code",
   "execution_count": 19,
   "id": "01145e28-c1ed-4fff-97c4-d0b10545beef",
   "metadata": {},
   "outputs": [],
   "source": [
    "y = df_sel['death']\n",
    "T = df_sel[['childseat', 'lapbelt', 'lapshould']].max(axis=1).astype(int)\n",
    "X = df_sel[[col for col in df_sel.columns if col not in ['lapbelt', 'lapshould', 'childseat']]]\n",
    "X = pipe.fit_transform(W)"
   ]
  },
  {
   "cell_type": "code",
   "execution_count": 20,
   "id": "0374b1cc-3bfb-4b93-b3d7-7c2635e951da",
   "metadata": {},
   "outputs": [
    {
     "name": "stdout",
     "output_type": "stream",
     "text": [
      "CPU times: user 7.31 s, sys: 197 ms, total: 7.51 s\n",
      "Wall time: 933 ms\n"
     ]
    },
    {
     "data": {
      "text/plain": [
       "<econml.dml.causal_forest.CausalForestDML at 0x7fa58be50fa0>"
      ]
     },
     "execution_count": 20,
     "metadata": {},
     "output_type": "execute_result"
    }
   ],
   "source": [
    "%%time\n",
    "model_t = HistGradientBoostingClassifier(max_iter=100, n_iter_no_change=10, max_depth=5, early_stopping=True, random_state=cfg.random_state)\n",
    "model_y = HistGradientBoostingRegressor(max_iter=100, n_iter_no_change=10, max_depth=5, early_stopping=True, random_state=cfg.random_state)\n",
    "cf = CausalForestDML(model_t=model_t, model_y=model_y, cv=cv_splitter, discrete_treatment=True, random_state=cfg.random_state,\n",
    "                    min_samples_split=100, min_samples_leaf=50, max_depth=3)\n",
    "cf.fit(y, T.values, X=X)"
   ]
  },
  {
   "cell_type": "code",
   "execution_count": 21,
   "id": "af8af5a1-6b22-45de-afd8-f9a9b618d443",
   "metadata": {},
   "outputs": [
    {
     "name": "stdout",
     "output_type": "stream",
     "text": [
      "-0.048595545227588424\n"
     ]
    },
    {
     "data": {
      "text/html": [
       "<table class=\"simpletable\">\n",
       "<caption>OLS Regression Results</caption>\n",
       "<tr>\n",
       "  <th>Dep. Variable:</th>            <td>y</td>        <th>  R-squared:         </th> <td>   0.014</td>\n",
       "</tr>\n",
       "<tr>\n",
       "  <th>Model:</th>                   <td>OLS</td>       <th>  Adj. R-squared:    </th> <td>   0.014</td>\n",
       "</tr>\n",
       "<tr>\n",
       "  <th>Method:</th>             <td>Least Squares</td>  <th>  F-statistic:       </th> <td>   30.52</td>\n",
       "</tr>\n",
       "<tr>\n",
       "  <th>Date:</th>             <td>Wed, 04 Aug 2021</td> <th>  Prob (F-statistic):</th> <td>6.10e-14</td>\n",
       "</tr>\n",
       "<tr>\n",
       "  <th>Time:</th>                 <td>17:27:05</td>     <th>  Log-Likelihood:    </th> <td>  2078.8</td>\n",
       "</tr>\n",
       "<tr>\n",
       "  <th>No. Observations:</th>      <td> 10328</td>      <th>  AIC:               </th> <td>  -4152.</td>\n",
       "</tr>\n",
       "<tr>\n",
       "  <th>Df Residuals:</th>          <td> 10325</td>      <th>  BIC:               </th> <td>  -4130.</td>\n",
       "</tr>\n",
       "<tr>\n",
       "  <th>Df Model:</th>              <td>     2</td>      <th>                     </th>     <td> </td>   \n",
       "</tr>\n",
       "<tr>\n",
       "  <th>Covariance Type:</th>         <td>HC1</td>       <th>                     </th>     <td> </td>   \n",
       "</tr>\n",
       "</table>\n",
       "<table class=\"simpletable\">\n",
       "<tr>\n",
       "             <td></td>                <th>coef</th>     <th>std err</th>      <th>t</th>      <th>P>|t|</th>  <th>[0.025</th>    <th>0.975]</th>  \n",
       "</tr>\n",
       "<tr>\n",
       "  <th>const</th>                   <td>    0.0005</td> <td>    0.002</td> <td>    0.279</td> <td> 0.780</td> <td>   -0.003</td> <td>    0.004</td>\n",
       "</tr>\n",
       "<tr>\n",
       "  <th>mean_predictions</th>        <td>    0.9526</td> <td>    0.130</td> <td>    7.321</td> <td> 0.000</td> <td>    0.698</td> <td>    1.208</td>\n",
       "</tr>\n",
       "<tr>\n",
       "  <th>differential_prediction</th> <td>    2.9129</td> <td>    0.625</td> <td>    4.657</td> <td> 0.000</td> <td>    1.687</td> <td>    4.139</td>\n",
       "</tr>\n",
       "</table>\n",
       "<table class=\"simpletable\">\n",
       "<tr>\n",
       "  <th>Omnibus:</th>       <td>8769.608</td> <th>  Durbin-Watson:     </th>  <td>   1.888</td> \n",
       "</tr>\n",
       "<tr>\n",
       "  <th>Prob(Omnibus):</th>  <td> 0.000</td>  <th>  Jarque-Bera (JB):  </th> <td>161522.015</td>\n",
       "</tr>\n",
       "<tr>\n",
       "  <th>Skew:</th>           <td> 4.272</td>  <th>  Prob(JB):          </th>  <td>    0.00</td> \n",
       "</tr>\n",
       "<tr>\n",
       "  <th>Kurtosis:</th>       <td>20.388</td>  <th>  Cond. No.          </th>  <td>    184.</td> \n",
       "</tr>\n",
       "</table><br/><br/>Notes:<br/>[1] Standard Errors are heteroscedasticity robust (HC1)"
      ],
      "text/plain": [
       "<class 'statsmodels.iolib.summary.Summary'>\n",
       "\"\"\"\n",
       "                            OLS Regression Results                            \n",
       "==============================================================================\n",
       "Dep. Variable:                      y   R-squared:                       0.014\n",
       "Model:                            OLS   Adj. R-squared:                  0.014\n",
       "Method:                 Least Squares   F-statistic:                     30.52\n",
       "Date:                Wed, 04 Aug 2021   Prob (F-statistic):           6.10e-14\n",
       "Time:                        17:27:05   Log-Likelihood:                 2078.8\n",
       "No. Observations:               10328   AIC:                            -4152.\n",
       "Df Residuals:                   10325   BIC:                            -4130.\n",
       "Df Model:                           2                                         \n",
       "Covariance Type:                  HC1                                         \n",
       "===========================================================================================\n",
       "                              coef    std err          t      P>|t|      [0.025      0.975]\n",
       "-------------------------------------------------------------------------------------------\n",
       "const                       0.0005      0.002      0.279      0.780      -0.003       0.004\n",
       "mean_predictions            0.9526      0.130      7.321      0.000       0.698       1.208\n",
       "differential_prediction     2.9129      0.625      4.657      0.000       1.687       4.139\n",
       "==============================================================================\n",
       "Omnibus:                     8769.608   Durbin-Watson:                   1.888\n",
       "Prob(Omnibus):                  0.000   Jarque-Bera (JB):           161522.015\n",
       "Skew:                           4.272   Prob(JB):                         0.00\n",
       "Kurtosis:                      20.388   Cond. No.                         184.\n",
       "==============================================================================\n",
       "\n",
       "Notes:\n",
       "[1] Standard Errors are heteroscedasticity robust (HC1)\n",
       "\"\"\""
      ]
     },
     "execution_count": 21,
     "metadata": {},
     "output_type": "execute_result"
    }
   ],
   "source": [
    "cates = cf.marginal_effect(T, X=X)\n",
    "print(cates.mean())\n",
    "\n",
    "import statsmodels.api as sm\n",
    "residuals = DML_diagnostics(cf).first_stage_residuals(y, T, X=X)\n",
    "C = np.mean(cates)*residuals[['T']]\n",
    "D = (cates - cates.mean())*residuals[['T']]\n",
    "test=pd.concat([C, D], axis='columns')\n",
    "test.columns = ['mean_predictions', 'differential_prediction']\n",
    "test = sm.add_constant(test)\n",
    "ols = sm.OLS(residuals[['y']], test)\n",
    "res = ols.fit().get_robustcov_results()\n",
    "res.summary()"
   ]
  },
  {
   "cell_type": "code",
   "execution_count": 22,
   "id": "a92b50ae-288c-4f27-a062-ed0d14f61478",
   "metadata": {},
   "outputs": [
    {
     "name": "stdout",
     "output_type": "stream",
     "text": [
      "Population summary results are available only if `cache_values=True` at fit time!\n"
     ]
    },
    {
     "data": {
      "text/html": [
       "<table class=\"simpletable\">\n",
       "<caption>Doubly Robust ATE on Training Data Results</caption>\n",
       "<tr>\n",
       "   <td></td>   <th>point_estimate</th> <th>stderr</th>  <th>zstat</th> <th>pvalue</th> <th>ci_lower</th> <th>ci_upper</th>\n",
       "</tr>\n",
       "<tr>\n",
       "  <th>ATE</th>     <td>-0.036</td>      <td>0.012</td> <td>-2.971</td>  <td>0.003</td>  <td>-0.057</td>   <td>-0.016</td> \n",
       "</tr>\n",
       "</table>\n",
       "<table class=\"simpletable\">\n",
       "<caption>Doubly Robust ATT(T=0) on Training Data Results</caption>\n",
       "<tr>\n",
       "   <td></td>   <th>point_estimate</th> <th>stderr</th>  <th>zstat</th> <th>pvalue</th> <th>ci_lower</th> <th>ci_upper</th>\n",
       "</tr>\n",
       "<tr>\n",
       "  <th>ATT</th>     <td>-0.045</td>      <td>0.023</td> <td>-1.961</td>  <td>0.05</td>   <td>-0.083</td>   <td>-0.007</td> \n",
       "</tr>\n",
       "</table>\n",
       "<table class=\"simpletable\">\n",
       "<caption>Doubly Robust ATT(T=1) on Training Data Results</caption>\n",
       "<tr>\n",
       "   <td></td>   <th>point_estimate</th> <th>stderr</th>  <th>zstat</th> <th>pvalue</th> <th>ci_lower</th> <th>ci_upper</th>\n",
       "</tr>\n",
       "<tr>\n",
       "  <th>ATT</th>     <td>-0.032</td>      <td>0.014</td> <td>-2.232</td>  <td>0.026</td>  <td>-0.055</td>   <td>-0.008</td> \n",
       "</tr>\n",
       "</table>"
      ],
      "text/plain": [
       "<class 'econml.utilities.Summary'>\n",
       "\"\"\"\n",
       "        Doubly Robust ATE on Training Data Results       \n",
       "=========================================================\n",
       "    point_estimate stderr zstat  pvalue ci_lower ci_upper\n",
       "---------------------------------------------------------\n",
       "ATE         -0.036  0.012 -2.971  0.003   -0.057   -0.016\n",
       "     Doubly Robust ATT(T=0) on Training Data Results     \n",
       "=========================================================\n",
       "    point_estimate stderr zstat  pvalue ci_lower ci_upper\n",
       "---------------------------------------------------------\n",
       "ATT         -0.045  0.023 -1.961   0.05   -0.083   -0.007\n",
       "     Doubly Robust ATT(T=1) on Training Data Results     \n",
       "=========================================================\n",
       "    point_estimate stderr zstat  pvalue ci_lower ci_upper\n",
       "---------------------------------------------------------\n",
       "ATT         -0.032  0.014 -2.232  0.026   -0.055   -0.008\n",
       "---------------------------------------------------------\n",
       "\"\"\""
      ]
     },
     "execution_count": 22,
     "metadata": {},
     "output_type": "execute_result"
    }
   ],
   "source": [
    "cf.summary()"
   ]
  },
  {
   "cell_type": "markdown",
   "id": "8a01995e-efe2-4f45-aff5-38325f85e854",
   "metadata": {},
   "source": [
    "### Characterization of CATEs"
   ]
  },
  {
   "cell_type": "code",
   "execution_count": 23,
   "id": "c5a7f82f-d6ac-4fdc-b628-d5142bc8bd3e",
   "metadata": {},
   "outputs": [
    {
     "data": {
      "image/png": "[encoded data removed]",
      "text/plain": [
       "<Figure size 720x432 with 1 Axes>"
      ]
     },
     "metadata": {
      "needs_background": "light"
     },
     "output_type": "display_data"
    }
   ],
   "source": [
    "import matplotlib.pyplot as plt\n",
    "import seaborn as sns\n",
    "fig, ax = plt.subplots(1,1, figsize=(10, 6))\n",
    "\n",
    "sns.histplot(x=cates[cates<0].reshape(-1), ax=ax, color='blue')\n",
    "sns.histplot(x=cates[cates>0].reshape(-1), ax=ax, color='red')\n",
    "plt.show() "
   ]
  },
  {
   "cell_type": "code",
   "execution_count": 24,
   "id": "9a2de3eb-9b7f-4c63-b727-c2388298fe92",
   "metadata": {},
   "outputs": [
    {
     "data": {
      "image/png": "[encoded data removed]",
      "text/plain": [
       "<Figure size 504x360 with 1 Axes>"
      ]
     },
     "metadata": {
      "needs_background": "light"
     },
     "output_type": "display_data"
    }
   ],
   "source": [
    "importances = pd.DataFrame(cf.feature_importances(), index=X.columns, columns=['importance']).sort_values('importance', ascending=False)\n",
    "importances = importances[importances['importance']>0.05]\n",
    "importances = pd.concat([importances, pd.DataFrame([1 - importances.sum()], index=['other_features'], columns=['importance'])])\n",
    "\n",
    "fig, ax = plt.subplots(1,1, figsize=(7, 5))\n",
    "importances.plot(kind='bar', ax=ax, legend=None, color='black')\n",
    "ax.tick_params(axis='x', rotation=45)\n",
    "ax.set_title('Feature Importance in second stage causal forest')\n",
    "plt.show()"
   ]
  },
  {
   "cell_type": "code",
   "execution_count": 25,
   "id": "649937d0-c966-4336-b4f0-d82389e83897",
   "metadata": {},
   "outputs": [],
   "source": [
    "codeweight = X['thoulbs_I'].copy()\n",
    "codeweight[X['thoulbs_I']<1] = 'Missing weight'\n",
    "codeweight[X['thoulbs_I']>1] = '<3500 lbs'\n",
    "codeweight[X['thoulbs_I']>3.5] = '>3500 lbs'"
   ]
  },
  {
   "cell_type": "code",
   "execution_count": 26,
   "id": "2db21f08-116f-4125-89c7-a85fd2f73b7e",
   "metadata": {},
   "outputs": [
    {
     "data": {
      "image/png": "[encoded data removed]",
      "text/plain": [
       "<Figure size 720x360 with 1 Axes>"
      ]
     },
     "metadata": {
      "needs_background": "light"
     },
     "output_type": "display_data"
    }
   ],
   "source": [
    "from src.dmlutils import binscatter\n",
    "fig, ax = plt.subplots(1,1, figsize=(10, 5))\n",
    "\n",
    "# toplot = binscatter(y=pd.DataFrame(cates), x=X[['car_age']], nbins=50)\n",
    "# sns.scatterplot(data=toplot, x='x', y='y', s=100*toplot['count']/toplot['count'].max(), ax=ax)\n",
    "\n",
    "toplot = binscatter(y=pd.DataFrame(cates), x=X[['car_age']], by=X['splmU55'], nbins=50)\n",
    "sns.scatterplot(data=toplot, x='x', y='y', hue='by', s=100*toplot['count']/toplot['count'].max(), ax=ax)\n",
    "\n",
    "plt.show()"
   ]
  },
  {
   "cell_type": "code",
   "execution_count": 27,
   "id": "b846c95e-7c8b-4e07-bdbc-c42e93e3a409",
   "metadata": {},
   "outputs": [],
   "source": [
    "hm = (\n",
    "    pd.concat([pd.DataFrame(cates, columns=['cate'], index=X.index), X[['year', 'modelyr']]], axis=1)\n",
    "    .groupby(['year', 'modelyr']).agg(['mean', 'count'])\n",
    "    .reset_index()\n",
    ")\n",
    "hm.columns = ['year', 'modelyr', 'mean', 'count']"
   ]
  },
  {
   "cell_type": "code",
   "execution_count": 28,
   "id": "c9158555-e440-4410-a5e8-d3cf444563b2",
   "metadata": {},
   "outputs": [
    {
     "data": {
      "image/png": "[encoded data removed]",
      "text/plain": [
       "<Figure size 1080x504 with 3 Axes>"
      ]
     },
     "metadata": {
      "needs_background": "light"
     },
     "output_type": "display_data"
    }
   ],
   "source": [
    "from src.dmlutils import binscatter\n",
    "fig, ax = plt.subplots(1,3, figsize=(15, 7), sharex=False, sharey=True)\n",
    "\n",
    "toplot = binscatter(y=pd.DataFrame(cates), x=X[['modelyr']], by=X['splmU55'], nbins=50)\n",
    "sns.scatterplot(data=toplot, x='x', y='y', hue='by', s=100*toplot['count']/toplot['count'].max(), ax=ax[0])\n",
    "ax[0].legend(handles= ax[0].legend_.legendHandles, labels = ['Over 55 Mph', 'Under 55 Mph'], frameon=False)\n",
    "ax[0].set_ylabel('Estimated CATE')\n",
    "ax[0].set_xlabel('Model year')\n",
    "\n",
    "toplot = binscatter(y=pd.DataFrame(cates), x=X[['year']], by=X['splmU55'], nbins=50)\n",
    "sns.scatterplot(data=toplot, x='x', y='y', hue='by', s=100*toplot['count']/toplot['count'].max(), ax=ax[1])\n",
    "ax[1].legend(handles= ax[1].legend_.legendHandles, labels = ['Over 55 Mph', 'Under 55 Mph'], frameon=False)\n",
    "ax[1].set_ylabel('Estimated CATE')\n",
    "ax[1].set_xlabel('Year')\n",
    "\n",
    "toplot = binscatter(y=pd.DataFrame(cates), x=X[['thoulbs_I']]*1000, nbins=50)\n",
    "sns.scatterplot(data=toplot, x='x', y='y', s=300*toplot['count']/toplot['count'].max(), ax=ax[2], color='black')\n",
    "# ax[1].set_ylabel('Estimated CATE')\n",
    "ax[2].set_xlabel('Car weight (lbs)')\n",
    "ax[2].set_xlim(1500,5000)\n",
    "\n",
    "plt.show()"
   ]
  },
  {
   "cell_type": "markdown",
   "id": "b3ba81db-9ed0-4fc0-9371-3d0a191a3447",
   "metadata": {},
   "source": [
    "## Policy Learning"
   ]
  },
  {
   "cell_type": "code",
   "execution_count": 29,
   "id": "54a84a50-6c6f-4554-8eaf-ea5395c4028a",
   "metadata": {},
   "outputs": [],
   "source": [
    "# from sklearn.linear_model import LinearRegression\n",
    "# controls = [item for typ in ft.feat_type.values() for item in typ]\n",
    "\n",
    "# results = []\n",
    "# pipe = ft.construct_data_pipeline(pd_output=True)\n",
    "# for feat in [col for col in controls if col in df_repl]: \n",
    "#     dt = pipe.fit_transform(df_repl[[feat]])\n",
    "#     mdl = LinearRegression().fit(dt, y)\n",
    "#     results.append([feat, r2_score(y, mdl.predict(dt))])\n",
    "# ordered_features = pd.DataFrame(results, columns=['feature', 'r2']).sort_values('r2', ascending=False)['feature'].to_list()"
   ]
  }
 ],
 "metadata": {
  "kernelspec": {
   "display_name": "Python 3 (ipykernel)",
   "language": "python",
   "name": "python3"
  },
  "language_info": {
   "codemirror_mode": {
    "name": "ipython",
    "version": 3
   },
   "file_extension": ".py",
   "mimetype": "text/x-python",
   "name": "python",
   "nbconvert_exporter": "python",
   "pygments_lexer": "ipython3",
   "version": "3.8.10"
  }
 },
 "nbformat": 4,
 "nbformat_minor": 5
}
