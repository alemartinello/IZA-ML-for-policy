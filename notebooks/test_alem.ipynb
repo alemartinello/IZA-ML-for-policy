{
 "cells": [
  {
   "cell_type": "code",
   "execution_count": 5,
   "id": "8cb0e256-1e56-486c-bf39-455bf56b925a",
   "metadata": {},
   "outputs": [
    {
     "name": "stdout",
     "output_type": "stream",
     "text": [
      "The autoreload extension is already loaded. To reload it, use:\n",
      "  %reload_ext autoreload\n"
     ]
    }
   ],
   "source": [
    "%load_ext autoreload\n",
    "%autoreload 2"
   ]
  },
  {
   "cell_type": "code",
   "execution_count": 6,
   "id": "067301d8-9729-4ca0-b185-fda3196ec2b1",
   "metadata": {},
   "outputs": [],
   "source": [
    "import pandas as pd\n",
    "import numpy as np\n",
    "from pathlib import Path\n",
    "from sklearn.experimental import enable_hist_gradient_boosting\n",
    "from sklearn.ensemble import HistGradientBoostingClassifier, HistGradientBoostingRegressor\n",
    "from sklearn.metrics import r2_score\n",
    "from sklearn.linear_model import LinearRegression\n",
    "from sklearn.model_selection import KFold\n",
    "from econml.causal_forest import CausalForestDML\n",
    "from econml.dml import LinearDML\n",
    "# User-written modules\n",
    "import sys\n",
    "sys.path.append('..')\n",
    "import src.config as cfg\n",
    "import src.features as ft\n",
    "from src.dmlutils import DML_diagnostics"
   ]
  },
  {
   "cell_type": "code",
   "execution_count": 7,
   "id": "154cf452-b136-4e94-b782-8d1b62f82a40",
   "metadata": {},
   "outputs": [
    {
     "name": "stdout",
     "output_type": "stream",
     "text": [
      "38455\n"
     ]
    }
   ],
   "source": [
    "df = pd.read_csv(Path('../data/FARS-data-full-sample.txt'), sep='\\t')\n",
    "# The replication does not use whether child seat or belt were improperly used, and thereafter drops rows with missing values in them\n",
    "df_repl = df[[feat for feat in df.columns if not feat.startswith('imp')]]\n",
    "df_repl = df_repl[~df_repl.isna().max(axis=1)]\n",
    "df_repl['modelyr'] = df_repl['modelyr'].astype(int)\n",
    "df_repl = df_repl[df_repl['year']<=2003]\n",
    "print(len(df_repl))"
   ]
  },
  {
   "cell_type": "code",
   "execution_count": 8,
   "id": "61ef507e-e6e3-473e-9b8e-759fb9a3ad70",
   "metadata": {},
   "outputs": [],
   "source": [
    "pipe = ft.construct_data_pipeline(pd_output=True)\n",
    "cv_splitter = KFold(2, shuffle=True, random_state=cfg.random_state)"
   ]
  },
  {
   "cell_type": "markdown",
   "id": "b5760a00-8e0e-4eae-9555-e380ab377c46",
   "metadata": {},
   "source": [
    "## Full sample replication with DML"
   ]
  },
  {
   "cell_type": "code",
   "execution_count": 23,
   "id": "8cd152ca-b978-4e05-8166-14ff5d29e65c",
   "metadata": {},
   "outputs": [],
   "source": [
    "y = df_repl['death']\n",
    "T = df_repl['restraint']\n",
    "W = df_repl[[col for col in df_repl.columns if col not in ['lapbelt', 'lapshould', 'childseat']]]"
   ]
  },
  {
   "cell_type": "code",
   "execution_count": 25,
   "id": "5ac0c67b-9af4-4b8e-a6aa-8d4924c3ab96",
   "metadata": {},
   "outputs": [
    {
     "name": "stdout",
     "output_type": "stream",
     "text": [
      "Wall time: 8.14 s\n"
     ]
    },
    {
     "data": {
      "text/plain": [
       "<econml.dml.dml.LinearDML at 0x1adc59149b0>"
      ]
     },
     "execution_count": 25,
     "metadata": {},
     "output_type": "execute_result"
    }
   ],
   "source": [
    "%%time\n",
    "model_t = HistGradientBoostingClassifier(max_iter=100, n_iter_no_change=10, max_depth=10, early_stopping=True, random_state=cfg.random_state)\n",
    "model_y = HistGradientBoostingRegressor(max_iter=100, n_iter_no_change=10, max_depth=10, early_stopping=True, random_state=cfg.random_state)\n",
    "dml = LinearDML(model_t=model_t, model_y=model_y, cv=cv_splitter, discrete_treatment=True, fit_cate_intercept=True)\n",
    "dml.fit(y, T.values, W=pipe.fit_transform(W))"
   ]
  },
  {
   "cell_type": "code",
   "execution_count": 26,
   "id": "2fd37959-48ff-4ac7-a6ac-6030d3ec32e5",
   "metadata": {},
   "outputs": [
    {
     "data": {
      "text/html": [
       "<div>\n",
       "<style scoped>\n",
       "    .dataframe tbody tr th:only-of-type {\n",
       "        vertical-align: middle;\n",
       "    }\n",
       "\n",
       "    .dataframe tbody tr th {\n",
       "        vertical-align: top;\n",
       "    }\n",
       "\n",
       "    .dataframe thead th {\n",
       "        text-align: right;\n",
       "    }\n",
       "</style>\n",
       "<table border=\"1\" class=\"dataframe\">\n",
       "  <thead>\n",
       "    <tr style=\"text-align: right;\">\n",
       "      <th></th>\n",
       "      <th></th>\n",
       "      <th>point_estimate</th>\n",
       "      <th>stderr</th>\n",
       "      <th>zstat</th>\n",
       "      <th>pvalue</th>\n",
       "      <th>ci_lower</th>\n",
       "      <th>ci_upper</th>\n",
       "    </tr>\n",
       "    <tr>\n",
       "      <th>X</th>\n",
       "      <th>T</th>\n",
       "      <th></th>\n",
       "      <th></th>\n",
       "      <th></th>\n",
       "      <th></th>\n",
       "      <th></th>\n",
       "      <th></th>\n",
       "    </tr>\n",
       "  </thead>\n",
       "  <tbody>\n",
       "    <tr>\n",
       "      <th rowspan=\"3\" valign=\"top\">cate_intercept</th>\n",
       "      <th>T0_1_childseat</th>\n",
       "      <td>-0.127</td>\n",
       "      <td>0.006</td>\n",
       "      <td>-20.818</td>\n",
       "      <td>0.0</td>\n",
       "      <td>-0.137</td>\n",
       "      <td>-0.117</td>\n",
       "    </tr>\n",
       "    <tr>\n",
       "      <th>T0_2_lap only belt</th>\n",
       "      <td>-0.110</td>\n",
       "      <td>0.007</td>\n",
       "      <td>-16.891</td>\n",
       "      <td>0.0</td>\n",
       "      <td>-0.121</td>\n",
       "      <td>-0.100</td>\n",
       "    </tr>\n",
       "    <tr>\n",
       "      <th>T0_3_lap/should belt</th>\n",
       "      <td>-0.148</td>\n",
       "      <td>0.007</td>\n",
       "      <td>-21.035</td>\n",
       "      <td>0.0</td>\n",
       "      <td>-0.160</td>\n",
       "      <td>-0.137</td>\n",
       "    </tr>\n",
       "  </tbody>\n",
       "</table>\n",
       "</div>"
      ],
      "text/plain": [
       "                                     point_estimate  stderr   zstat  pvalue  \\\n",
       "X              T                                                              \n",
       "cate_intercept T0_1_childseat                -0.127   0.006 -20.818     0.0   \n",
       "               T0_2_lap only belt            -0.110   0.007 -16.891     0.0   \n",
       "               T0_3_lap/should belt          -0.148   0.007 -21.035     0.0   \n",
       "\n",
       "                                     ci_lower  ci_upper  \n",
       "X              T                                         \n",
       "cate_intercept T0_1_childseat          -0.137    -0.117  \n",
       "               T0_2_lap only belt      -0.121    -0.100  \n",
       "               T0_3_lap/should belt    -0.160    -0.137  "
      ]
     },
     "execution_count": 26,
     "metadata": {},
     "output_type": "execute_result"
    }
   ],
   "source": [
    "inf = dml.intercept__inference()\n",
    "inf.summary_frame()"
   ]
  },
  {
   "cell_type": "markdown",
   "id": "e7a068f5-9b1d-40d0-8dc1-5e3b9cb0a0d7",
   "metadata": {},
   "source": [
    "### Comparison with OLS benchmark"
   ]
  },
  {
   "cell_type": "code",
   "execution_count": 28,
   "id": "a4a9dc33-a17b-490d-b970-660423a5425d",
   "metadata": {},
   "outputs": [
    {
     "name": "stdout",
     "output_type": "stream",
     "text": [
      "Wall time: 428 ms\n"
     ]
    },
    {
     "data": {
      "text/plain": [
       "<econml.dml.dml.LinearDML at 0x1adc59149e8>"
      ]
     },
     "execution_count": 28,
     "metadata": {},
     "output_type": "execute_result"
    }
   ],
   "source": [
    "%%time\n",
    "Tb = T.str[0].astype(int)>0\n",
    "model_t = LinearRegression()\n",
    "model_y = LinearRegression()\n",
    "bmark = LinearDML(model_t=model_t, model_y=model_y, cv=cv_splitter, discrete_treatment=False, fit_cate_intercept=True)\n",
    "\n",
    "bmark.fit(y, Tb.values, W=pipe.fit_transform(W))"
   ]
  },
  {
   "cell_type": "code",
   "execution_count": 29,
   "id": "67493596-2166-4f12-bef4-3f69fd9185e1",
   "metadata": {},
   "outputs": [
    {
     "data": {
      "text/html": [
       "<div>\n",
       "<style scoped>\n",
       "    .dataframe tbody tr th:only-of-type {\n",
       "        vertical-align: middle;\n",
       "    }\n",
       "\n",
       "    .dataframe tbody tr th {\n",
       "        vertical-align: top;\n",
       "    }\n",
       "\n",
       "    .dataframe thead th {\n",
       "        text-align: right;\n",
       "    }\n",
       "</style>\n",
       "<table border=\"1\" class=\"dataframe\">\n",
       "  <thead>\n",
       "    <tr style=\"text-align: right;\">\n",
       "      <th></th>\n",
       "      <th>point_estimate</th>\n",
       "      <th>stderr</th>\n",
       "      <th>zstat</th>\n",
       "      <th>pvalue</th>\n",
       "      <th>ci_lower</th>\n",
       "      <th>ci_upper</th>\n",
       "    </tr>\n",
       "    <tr>\n",
       "      <th>X</th>\n",
       "      <th></th>\n",
       "      <th></th>\n",
       "      <th></th>\n",
       "      <th></th>\n",
       "      <th></th>\n",
       "      <th></th>\n",
       "    </tr>\n",
       "  </thead>\n",
       "  <tbody>\n",
       "    <tr>\n",
       "      <th>cate_intercept</th>\n",
       "      <td>-0.118</td>\n",
       "      <td>0.005</td>\n",
       "      <td>-22.469</td>\n",
       "      <td>0.0</td>\n",
       "      <td>-0.127</td>\n",
       "      <td>-0.109</td>\n",
       "    </tr>\n",
       "  </tbody>\n",
       "</table>\n",
       "</div>"
      ],
      "text/plain": [
       "                point_estimate  stderr   zstat  pvalue  ci_lower  ci_upper\n",
       "X                                                                         \n",
       "cate_intercept          -0.118   0.005 -22.469     0.0    -0.127    -0.109"
      ]
     },
     "execution_count": 29,
     "metadata": {},
     "output_type": "execute_result"
    }
   ],
   "source": [
    "inf = bmark.intercept__inference()\n",
    "inf.summary_frame()"
   ]
  },
  {
   "cell_type": "code",
   "execution_count": 35,
   "id": "f53f300b-691b-41f6-b2d3-c652eebf3eb7",
   "metadata": {},
   "outputs": [
    {
     "name": "stdout",
     "output_type": "stream",
     "text": [
      "Bechmark: Out-of-sample R2 for DML and OLS models\n"
     ]
    },
    {
     "data": {
      "text/html": [
       "<div>\n",
       "<style scoped>\n",
       "    .dataframe tbody tr th:only-of-type {\n",
       "        vertical-align: middle;\n",
       "    }\n",
       "\n",
       "    .dataframe tbody tr th {\n",
       "        vertical-align: top;\n",
       "    }\n",
       "\n",
       "    .dataframe thead th {\n",
       "        text-align: right;\n",
       "    }\n",
       "</style>\n",
       "<table border=\"1\" class=\"dataframe\">\n",
       "  <thead>\n",
       "    <tr style=\"text-align: right;\">\n",
       "      <th></th>\n",
       "      <th>R2 y</th>\n",
       "      <th>R2 T</th>\n",
       "    </tr>\n",
       "  </thead>\n",
       "  <tbody>\n",
       "    <tr>\n",
       "      <th>DML</th>\n",
       "      <td>0.085001</td>\n",
       "      <td>0.366853</td>\n",
       "    </tr>\n",
       "    <tr>\n",
       "      <th>OLS benchmark</th>\n",
       "      <td>0.060335</td>\n",
       "      <td>0.357309</td>\n",
       "    </tr>\n",
       "  </tbody>\n",
       "</table>\n",
       "</div>"
      ],
      "text/plain": [
       "                   R2 y      R2 T\n",
       "DML            0.085001  0.366853\n",
       "OLS benchmark  0.060335  0.357309"
      ]
     },
     "execution_count": 35,
     "metadata": {},
     "output_type": "execute_result"
    }
   ],
   "source": [
    "diag = DML_diagnostics(dml)\n",
    "bdiag = DML_diagnostics(bmark)\n",
    "pd.DataFrame([\n",
    "        [r2_score(y, diag.predict_y(W=pipe.transform(W))), r2_score(T.str[0].astype(int)>0, diag.predict_T(W=pipe.transform(W)))],\n",
    "        [r2_score(y, bdiag.predict_y(W=pipe.transform(W))), r2_score(Tb, bdiag.predict_T(W=pipe.transform(W)))]\n",
    "    ]\n",
    "    , index=['DML', 'OLS benchmark'], columns=['R2 y', 'R2 T']\n",
    ")"
   ]
  },
  {
   "cell_type": "markdown",
   "id": "71395b29-56f2-4eb9-987e-1c251b1c56d3",
   "metadata": {},
   "source": [
    "## Selected sample replication (causal)"
   ]
  },
  {
   "cell_type": "code",
   "execution_count": 39,
   "id": "85b8ebc2-77be-4aba-b54a-5e838625b742",
   "metadata": {},
   "outputs": [],
   "source": [
    "df = pd.read_csv(Path('../data/FARS-data-selection-sample.txt'), sep='\\t')\n",
    "# The replication does not use whether child seat or belt were improperly used, and thereafter drops rows with missing values in them\n",
    "df_sel = df[[feat for feat in df.columns if not feat.startswith('imp')]]\n",
    "df_sel = df_sel[~df_sel.isna().max(axis=1)]\n",
    "df_sel['modelyr'] = df_sel['modelyr'].astype(int)\n",
    "df_sel = df_sel[df_sel['year']<=2003]"
   ]
  },
  {
   "cell_type": "code",
   "execution_count": 40,
   "id": "a4997a8b-3cc0-4fb4-a7f9-89c6aecd935a",
   "metadata": {},
   "outputs": [],
   "source": [
    "y = df_sel['death']\n",
    "T = df_sel['restraint']\n",
    "W = df_sel[[col for col in df_sel.columns if col not in ['lapbelt', 'lapshould', 'childseat']]]"
   ]
  },
  {
   "cell_type": "code",
   "execution_count": 43,
   "id": "8bc0a98f-e02a-4927-bcc1-21a7f2640e05",
   "metadata": {},
   "outputs": [
    {
     "name": "stdout",
     "output_type": "stream",
     "text": [
      "Wall time: 2.91 s\n"
     ]
    },
    {
     "data": {
      "text/plain": [
       "<econml.dml.dml.LinearDML at 0x1adc59146a0>"
      ]
     },
     "execution_count": 43,
     "metadata": {},
     "output_type": "execute_result"
    }
   ],
   "source": [
    "%%time\n",
    "model_t = HistGradientBoostingClassifier(max_iter=100, n_iter_no_change=10, max_depth=10, early_stopping=True, random_state=cfg.random_state)\n",
    "model_y = HistGradientBoostingRegressor(max_iter=100, n_iter_no_change=10, max_depth=10, early_stopping=True, random_state=cfg.random_state)\n",
    "dml = LinearDML(model_t=model_t, model_y=model_y, cv=cv_splitter, discrete_treatment=True, fit_cate_intercept=True)\n",
    "dml.fit(y, T.values, W=pipe.fit_transform(W))"
   ]
  },
  {
   "cell_type": "code",
   "execution_count": 44,
   "id": "5dbeca94-6203-4548-a778-fc12061acaa6",
   "metadata": {},
   "outputs": [
    {
     "data": {
      "text/html": [
       "<div>\n",
       "<style scoped>\n",
       "    .dataframe tbody tr th:only-of-type {\n",
       "        vertical-align: middle;\n",
       "    }\n",
       "\n",
       "    .dataframe tbody tr th {\n",
       "        vertical-align: top;\n",
       "    }\n",
       "\n",
       "    .dataframe thead th {\n",
       "        text-align: right;\n",
       "    }\n",
       "</style>\n",
       "<table border=\"1\" class=\"dataframe\">\n",
       "  <thead>\n",
       "    <tr style=\"text-align: right;\">\n",
       "      <th></th>\n",
       "      <th></th>\n",
       "      <th>point_estimate</th>\n",
       "      <th>stderr</th>\n",
       "      <th>zstat</th>\n",
       "      <th>pvalue</th>\n",
       "      <th>ci_lower</th>\n",
       "      <th>ci_upper</th>\n",
       "    </tr>\n",
       "    <tr>\n",
       "      <th>X</th>\n",
       "      <th>T</th>\n",
       "      <th></th>\n",
       "      <th></th>\n",
       "      <th></th>\n",
       "      <th></th>\n",
       "      <th></th>\n",
       "      <th></th>\n",
       "    </tr>\n",
       "  </thead>\n",
       "  <tbody>\n",
       "    <tr>\n",
       "      <th rowspan=\"3\" valign=\"top\">cate_intercept</th>\n",
       "      <th>T0_1_childseat</th>\n",
       "      <td>-0.047</td>\n",
       "      <td>0.007</td>\n",
       "      <td>-6.715</td>\n",
       "      <td>0.0</td>\n",
       "      <td>-0.058</td>\n",
       "      <td>-0.035</td>\n",
       "    </tr>\n",
       "    <tr>\n",
       "      <th>T0_2_lap only belt</th>\n",
       "      <td>-0.048</td>\n",
       "      <td>0.007</td>\n",
       "      <td>-6.850</td>\n",
       "      <td>0.0</td>\n",
       "      <td>-0.059</td>\n",
       "      <td>-0.036</td>\n",
       "    </tr>\n",
       "    <tr>\n",
       "      <th>T0_3_lap/should belt</th>\n",
       "      <td>-0.054</td>\n",
       "      <td>0.007</td>\n",
       "      <td>-7.252</td>\n",
       "      <td>0.0</td>\n",
       "      <td>-0.067</td>\n",
       "      <td>-0.042</td>\n",
       "    </tr>\n",
       "  </tbody>\n",
       "</table>\n",
       "</div>"
      ],
      "text/plain": [
       "                                     point_estimate  stderr  zstat  pvalue  \\\n",
       "X              T                                                             \n",
       "cate_intercept T0_1_childseat                -0.047   0.007 -6.715     0.0   \n",
       "               T0_2_lap only belt            -0.048   0.007 -6.850     0.0   \n",
       "               T0_3_lap/should belt          -0.054   0.007 -7.252     0.0   \n",
       "\n",
       "                                     ci_lower  ci_upper  \n",
       "X              T                                         \n",
       "cate_intercept T0_1_childseat          -0.058    -0.035  \n",
       "               T0_2_lap only belt      -0.059    -0.036  \n",
       "               T0_3_lap/should belt    -0.067    -0.042  "
      ]
     },
     "execution_count": 44,
     "metadata": {},
     "output_type": "execute_result"
    }
   ],
   "source": [
    "inf = dml.intercept__inference()\n",
    "inf.summary_frame()"
   ]
  },
  {
   "cell_type": "code",
   "execution_count": 47,
   "id": "7ba339ff-75c2-40fb-9eb4-c7d43941ed8c",
   "metadata": {},
   "outputs": [
    {
     "data": {
      "text/html": [
       "<div>\n",
       "<style scoped>\n",
       "    .dataframe tbody tr th:only-of-type {\n",
       "        vertical-align: middle;\n",
       "    }\n",
       "\n",
       "    .dataframe tbody tr th {\n",
       "        vertical-align: top;\n",
       "    }\n",
       "\n",
       "    .dataframe thead th {\n",
       "        text-align: right;\n",
       "    }\n",
       "</style>\n",
       "<table border=\"1\" class=\"dataframe\">\n",
       "  <thead>\n",
       "    <tr style=\"text-align: right;\">\n",
       "      <th></th>\n",
       "      <th>R2 y</th>\n",
       "      <th>R2 T</th>\n",
       "    </tr>\n",
       "  </thead>\n",
       "  <tbody>\n",
       "    <tr>\n",
       "      <th>DML</th>\n",
       "      <td>0.015108</td>\n",
       "      <td>0.403582</td>\n",
       "    </tr>\n",
       "  </tbody>\n",
       "</table>\n",
       "</div>"
      ],
      "text/plain": [
       "         R2 y      R2 T\n",
       "DML  0.015108  0.403582"
      ]
     },
     "execution_count": 47,
     "metadata": {},
     "output_type": "execute_result"
    }
   ],
   "source": [
    "diag = DML_diagnostics(dml)\n",
    "pd.DataFrame(\n",
    "    [[r2_score(y, diag.predict_y(W=pipe.transform(W))), r2_score(T.str[0].astype(int)>0, diag.predict_T(W=pipe.transform(W)))]],\n",
    "    index=['DML'], columns=['R2 y', 'R2 T']\n",
    ")"
   ]
  },
  {
   "cell_type": "markdown",
   "id": "e5026ed3-a5c0-46f0-83f7-1b6e97886c8d",
   "metadata": {
    "tags": []
   },
   "source": [
    "## Causal forests\n",
    "\n",
    "For simplicity, we collapse the treatment arms into havign any child protection (any of the treatment arms) or not."
   ]
  },
  {
   "cell_type": "code",
   "execution_count": 48,
   "id": "8e3840fe-63be-46dc-8bab-33cc66cb4181",
   "metadata": {},
   "outputs": [],
   "source": [
    "from copy import deepcopy\n",
    "feats = deepcopy(ft.feat_type)\n",
    "feats['categorical'] = ['crashtm']\n",
    "feats['ordinal'] = feats['ordinal'] + ['year', 'modelyr']\n",
    "pipe = ft.construct_data_pipeline(feat_type=feats, pd_output=True)"
   ]
  },
  {
   "cell_type": "code",
   "execution_count": 55,
   "id": "01145e28-c1ed-4fff-97c4-d0b10545beef",
   "metadata": {},
   "outputs": [],
   "source": [
    "y = df_sel['death']\n",
    "T = df_sel[['childseat', 'lapbelt', 'lapshould']].max(axis=1).astype(int)\n",
    "X = df_sel[[col for col in df_sel.columns if col not in ['lapbelt', 'lapshould', 'childseat']]]\n",
    "X = pipe.fit_transform(W)"
   ]
  },
  {
   "cell_type": "code",
   "execution_count": 56,
   "id": "0374b1cc-3bfb-4b93-b3d7-7c2635e951da",
   "metadata": {},
   "outputs": [
    {
     "name": "stdout",
     "output_type": "stream",
     "text": [
      "Wall time: 2.25 s\n"
     ]
    },
    {
     "data": {
      "text/plain": [
       "<econml.dml.causal_forest.CausalForestDML at 0x1adc5914978>"
      ]
     },
     "execution_count": 56,
     "metadata": {},
     "output_type": "execute_result"
    }
   ],
   "source": [
    "%%time\n",
    "model_t = HistGradientBoostingClassifier(max_iter=100, n_iter_no_change=10, max_depth=10, early_stopping=True, random_state=cfg.random_state)\n",
    "model_y = HistGradientBoostingRegressor(max_iter=100, n_iter_no_change=10, max_depth=10, early_stopping=True, random_state=cfg.random_state)\n",
    "cf = CausalForestDML(model_t=model_t, model_y=model_y, cv=cv_splitter, discrete_treatment=True, random_state=cfg.random_state)\n",
    "cf.fit(y, T.values, X=X)"
   ]
  },
  {
   "cell_type": "code",
   "execution_count": 57,
   "id": "a92b50ae-288c-4f27-a062-ed0d14f61478",
   "metadata": {},
   "outputs": [
    {
     "name": "stdout",
     "output_type": "stream",
     "text": [
      "-0.044095519462886514\n",
      "Population summary results are available only if `cache_values=True` at fit time!\n"
     ]
    },
    {
     "data": {
      "text/html": [
       "<table class=\"simpletable\">\n",
       "<caption>Doubly Robust ATE on Training Data Results</caption>\n",
       "<tr>\n",
       "   <td></td>   <th>point_estimate</th> <th>stderr</th>  <th>zstat</th> <th>pvalue</th> <th>ci_lower</th> <th>ci_upper</th>\n",
       "</tr>\n",
       "<tr>\n",
       "  <th>ATE</th>     <td>-0.033</td>      <td>0.011</td> <td>-3.055</td>  <td>0.002</td>   <td>-0.05</td>   <td>-0.015</td> \n",
       "</tr>\n",
       "</table>\n",
       "<table class=\"simpletable\">\n",
       "<caption>Doubly Robust ATT(T=0) on Training Data Results</caption>\n",
       "<tr>\n",
       "   <td></td>   <th>point_estimate</th> <th>stderr</th>  <th>zstat</th> <th>pvalue</th> <th>ci_lower</th> <th>ci_upper</th>\n",
       "</tr>\n",
       "<tr>\n",
       "  <th>ATT</th>     <td>-0.026</td>      <td>0.021</td> <td>-1.244</td>  <td>0.213</td>   <td>-0.06</td>    <td>0.008</td> \n",
       "</tr>\n",
       "</table>\n",
       "<table class=\"simpletable\">\n",
       "<caption>Doubly Robust ATT(T=1) on Training Data Results</caption>\n",
       "<tr>\n",
       "   <td></td>   <th>point_estimate</th> <th>stderr</th>  <th>zstat</th> <th>pvalue</th> <th>ci_lower</th> <th>ci_upper</th>\n",
       "</tr>\n",
       "<tr>\n",
       "  <th>ATT</th>     <td>-0.036</td>      <td>0.012</td> <td>-3.049</td>  <td>0.002</td>  <td>-0.056</td>   <td>-0.017</td> \n",
       "</tr>\n",
       "</table>"
      ],
      "text/plain": [
       "<class 'econml.utilities.Summary'>\n",
       "\"\"\"\n",
       "        Doubly Robust ATE on Training Data Results       \n",
       "=========================================================\n",
       "    point_estimate stderr zstat  pvalue ci_lower ci_upper\n",
       "---------------------------------------------------------\n",
       "ATE         -0.033  0.011 -3.055  0.002    -0.05   -0.015\n",
       "     Doubly Robust ATT(T=0) on Training Data Results     \n",
       "=========================================================\n",
       "    point_estimate stderr zstat  pvalue ci_lower ci_upper\n",
       "---------------------------------------------------------\n",
       "ATT         -0.026  0.021 -1.244  0.213    -0.06    0.008\n",
       "     Doubly Robust ATT(T=1) on Training Data Results     \n",
       "=========================================================\n",
       "    point_estimate stderr zstat  pvalue ci_lower ci_upper\n",
       "---------------------------------------------------------\n",
       "ATT         -0.036  0.012 -3.049  0.002   -0.056   -0.017\n",
       "---------------------------------------------------------\n",
       "\"\"\""
      ]
     },
     "execution_count": 57,
     "metadata": {},
     "output_type": "execute_result"
    }
   ],
   "source": [
    "cates = cf.marginal_effect(T, X=X)\n",
    "print(cates.mean())\n",
    "cf.summary()"
   ]
  },
  {
   "cell_type": "markdown",
   "id": "8a01995e-efe2-4f45-aff5-38325f85e854",
   "metadata": {},
   "source": [
    "### Characterization of CATEs"
   ]
  },
  {
   "cell_type": "code",
   "execution_count": 67,
   "id": "3756b4cf-4582-41c3-bd1c-44b591050a33",
   "metadata": {},
   "outputs": [],
   "source": [
    "cinf = cf.const_marginal_effect_inference(X)\n",
    "cinf = cinf.conf_int()"
   ]
  },
  {
   "cell_type": "code",
   "execution_count": 85,
   "id": "ba7af34d-c7a9-4636-8990-eb7b69246b47",
   "metadata": {},
   "outputs": [
    {
     "data": {
      "image/png": "[encoded data removed]",
      "text/latex": [
       "$\\displaystyle 0.0523039867980122$"
      ],
      "text/plain": [
       "0.05230398679801215"
      ]
     },
     "execution_count": 85,
     "metadata": {},
     "output_type": "execute_result"
    }
   ],
   "source": [
    "cinf[1].mean()"
   ]
  },
  {
   "cell_type": "code",
   "execution_count": 22,
   "id": "c5a7f82f-d6ac-4fdc-b628-d5142bc8bd3e",
   "metadata": {},
   "outputs": [
    {
     "data": {
      "image/png": "[encoded data removed]",
      "text/plain": [
       "<Figure size 720x432 with 1 Axes>"
      ]
     },
     "metadata": {
      "needs_background": "light"
     },
     "output_type": "display_data"
    }
   ],
   "source": [
    "import matplotlib.pyplot as plt\n",
    "import seaborn as sns\n",
    "fig, ax = plt.subplots(1,1, figsize=(10, 6))\n",
    "\n",
    "sns.histplot(x=cates[cates<0].reshape(-1), ax=ax, color='blue')\n",
    "sns.histplot(x=cates[cates>0].reshape(-1), ax=ax, color='red')\n",
    "plt.show() "
   ]
  },
  {
   "cell_type": "code",
   "execution_count": 23,
   "id": "9a2de3eb-9b7f-4c63-b727-c2388298fe92",
   "metadata": {},
   "outputs": [
    {
     "data": {
      "text/html": [
       "<div>\n",
       "<style scoped>\n",
       "    .dataframe tbody tr th:only-of-type {\n",
       "        vertical-align: middle;\n",
       "    }\n",
       "\n",
       "    .dataframe tbody tr th {\n",
       "        vertical-align: top;\n",
       "    }\n",
       "\n",
       "    .dataframe thead th {\n",
       "        text-align: right;\n",
       "    }\n",
       "</style>\n",
       "<table border=\"1\" class=\"dataframe\">\n",
       "  <thead>\n",
       "    <tr style=\"text-align: right;\">\n",
       "      <th></th>\n",
       "      <th>importance</th>\n",
       "    </tr>\n",
       "  </thead>\n",
       "  <tbody>\n",
       "    <tr>\n",
       "      <th>year</th>\n",
       "      <td>0.187570</td>\n",
       "    </tr>\n",
       "    <tr>\n",
       "      <th>thoulbs_I</th>\n",
       "      <td>0.177703</td>\n",
       "    </tr>\n",
       "    <tr>\n",
       "      <th>splmU55</th>\n",
       "      <td>0.172001</td>\n",
       "    </tr>\n",
       "    <tr>\n",
       "      <th>numcrash</th>\n",
       "      <td>0.132299</td>\n",
       "    </tr>\n",
       "    <tr>\n",
       "      <th>modelyr</th>\n",
       "      <td>0.124369</td>\n",
       "    </tr>\n",
       "    <tr>\n",
       "      <th>row1</th>\n",
       "      <td>0.024720</td>\n",
       "    </tr>\n",
       "    <tr>\n",
       "      <th>lowviol</th>\n",
       "      <td>0.021191</td>\n",
       "    </tr>\n",
       "  </tbody>\n",
       "</table>\n",
       "</div>"
      ],
      "text/plain": [
       "           importance\n",
       "year         0.187570\n",
       "thoulbs_I    0.177703\n",
       "splmU55      0.172001\n",
       "numcrash     0.132299\n",
       "modelyr      0.124369\n",
       "row1         0.024720\n",
       "lowviol      0.021191"
      ]
     },
     "execution_count": 23,
     "metadata": {},
     "output_type": "execute_result"
    }
   ],
   "source": [
    "pd.DataFrame(cf.feature_importances(), index=X.columns, columns=['importance']).sort_values('importance', ascending=False).head(7)"
   ]
  },
  {
   "cell_type": "code",
   "execution_count": 24,
   "id": "649937d0-c966-4336-b4f0-d82389e83897",
   "metadata": {},
   "outputs": [],
   "source": [
    "codeweight = X['thoulbs_I'].copy()\n",
    "codeweight[X['thoulbs_I']<1] = 'Missing weight'\n",
    "codeweight[X['thoulbs_I']>1] = '<3500 lbs'\n",
    "codeweight[X['thoulbs_I']>3.5] = '>3500 lbs'"
   ]
  },
  {
   "cell_type": "code",
   "execution_count": 25,
   "id": "2357b6f8-a96e-452b-9a0d-2f8aad50cf5a",
   "metadata": {},
   "outputs": [
    {
     "data": {
      "text/plain": [
       "<3500 lbs         5126\n",
       ">3500 lbs         2645\n",
       "Missing weight    2557\n",
       "Name: thoulbs_I, dtype: int64"
      ]
     },
     "execution_count": 25,
     "metadata": {},
     "output_type": "execute_result"
    }
   ],
   "source": [
    "codeweight.value_counts()"
   ]
  },
  {
   "cell_type": "code",
   "execution_count": 26,
   "id": "8ccd38c6-3113-4058-8627-4cab12296015",
   "metadata": {},
   "outputs": [],
   "source": []
  },
  {
   "cell_type": "code",
   "execution_count": 85,
   "id": "b846c95e-7c8b-4e07-bdbc-c42e93e3a409",
   "metadata": {},
   "outputs": [],
   "source": [
    "hm = (\n",
    "    pd.concat([pd.DataFrame(cates, columns=['cate'], index=X.index), X[['year', 'modelyr']]], axis=1)\n",
    "    .groupby(['year', 'modelyr']).agg(['mean', 'count'])\n",
    "    .reset_index()\n",
    ")\n",
    "hm.columns = ['year', 'modelyr', 'mean', 'count']"
   ]
  },
  {
   "cell_type": "code",
   "execution_count": 112,
   "id": "c9158555-e440-4410-a5e8-d3cf444563b2",
   "metadata": {},
   "outputs": [
    {
     "data": {
      "image/png": "[encoded data removed]",
      "text/plain": [
       "<Figure size 1440x504 with 4 Axes>"
      ]
     },
     "metadata": {
      "needs_background": "light"
     },
     "output_type": "display_data"
    }
   ],
   "source": [
    "from src.dmlutils import binscatter\n",
    "fig, ax = plt.subplots(1,3, figsize=(20, 7), sharex=True)\n",
    "\n",
    "toplot = binscatter(y=pd.DataFrame(cates), x=X[['year']], by=X['splmU55'], nbins=50)\n",
    "sns.scatterplot(data=toplot, x='x', y='y', hue='by', s=100*toplot['count']/toplot['count'].max(), ax=ax[0])\n",
    "ax[0].legend(handles= ax[0].legend_.legendHandles, labels = ['Over 55 Mph', 'Under 55 Mph'], frameon=False, title='by')\n",
    "ax[0].set_ylabel('Estimated CATE')\n",
    "ax[0].set_xlabel('Year')\n",
    "\n",
    "toplot = binscatter(y=pd.DataFrame(cates), x=X[['year']], by=codeweight, nbins=50)\n",
    "sns.scatterplot(data=toplot, x='x', y='y', hue='by', s=100*toplot['count']/toplot['count'].max(), ax=ax[1])\n",
    "ax[1].legend(frameon=False, title='by')\n",
    "ax[1].set_ylabel('Estimated CATE')\n",
    "ax[1].set_xlabel('Year')\n",
    "\n",
    "\n",
    "sns.scatterplot(data=hm, x='year', y='modelyr', hue='mean', s=100*hm['count']/hm['count'].max(), ax=ax[2], palette='gist_heat')\n",
    "norm = plt.Normalize(hm['mean'].min(), hm['mean'].max())\n",
    "sm = plt.cm.ScalarMappable(cmap=\"gist_heat\", norm=norm)\n",
    "sm.set_array([])\n",
    "ax[2].get_legend().remove()\n",
    "ax[2].figure.colorbar(sm).set_label('Estimated CATE')\n",
    "ax[2].set_xlabel('Year')\n",
    "ax[2].set_ylabel('Model year')\n",
    "\n",
    "plt.show()"
   ]
  },
  {
   "cell_type": "code",
   "execution_count": 16,
   "id": "8db86081-2ff4-47bb-9300-4305556b345e",
   "metadata": {},
   "outputs": [],
   "source": [
    "from src.dmlutils import DML_diagnostics\n",
    "diag = DML_diagnostics(dml)"
   ]
  },
  {
   "cell_type": "code",
   "execution_count": 17,
   "id": "48af3834-8e23-493e-a9d5-ac1e6570da7a",
   "metadata": {},
   "outputs": [
    {
     "data": {
      "text/plain": [
       "lapbelt  lapshould\n",
       "0.0      0.0          41089\n",
       "         1.0           8803\n",
       "1.0      0.0           6182\n",
       "dtype: int64"
      ]
     },
     "execution_count": 17,
     "metadata": {},
     "output_type": "execute_result"
    }
   ],
   "source": [
    "X.value_counts()"
   ]
  },
  {
   "cell_type": "code",
   "execution_count": 18,
   "id": "656bc3c2-5509-4b53-b756-413d370ada6e",
   "metadata": {},
   "outputs": [
    {
     "data": {
      "image/png": "[encoded data removed]",
      "text/latex": [
       "$\\displaystyle \\left( 56074, \\  115\\right)$"
      ],
      "text/plain": [
       "(56074, 115)"
      ]
     },
     "execution_count": 18,
     "metadata": {},
     "output_type": "execute_result"
    }
   ],
   "source": [
    "pipe.transform(W).shape"
   ]
  },
  {
   "cell_type": "code",
   "execution_count": 19,
   "id": "c73e5a6e-f175-4a4c-9e8c-95c87158cd5d",
   "metadata": {},
   "outputs": [
    {
     "data": {
      "image/png": "[encoded data removed]",
      "text/latex": [
       "$\\displaystyle 351$"
      ],
      "text/plain": [
       "351"
      ]
     },
     "execution_count": 19,
     "metadata": {},
     "output_type": "execute_result"
    }
   ],
   "source": [
    "dml.models_y[0][0].n_features_in_"
   ]
  },
  {
   "cell_type": "code",
   "execution_count": null,
   "id": "0684b842-3560-4caf-8408-9da5bb3dfaaf",
   "metadata": {},
   "outputs": [],
   "source": []
  },
  {
   "cell_type": "code",
   "execution_count": null,
   "id": "3b52e986-e821-481c-adc6-127482869959",
   "metadata": {},
   "outputs": [],
   "source": []
  },
  {
   "cell_type": "code",
   "execution_count": 20,
   "id": "6e62f7bd-8361-4294-8f7c-176f0f8ffe79",
   "metadata": {},
   "outputs": [],
   "source": [
    "from econml.dml import CausalForestDML"
   ]
  },
  {
   "cell_type": "code",
   "execution_count": 21,
   "id": "805f4167-4f45-48cc-9e97-7191fde64212",
   "metadata": {},
   "outputs": [],
   "source": [
    "model_t = HistGradientBoostingRegressor(max_iter=100, n_iter_no_change=10, max_depth=10, early_stopping=True, random_state=cfg.random_state)\n",
    "model_y = HistGradientBoostingRegressor(max_iter=100, n_iter_no_change=10, max_depth=10, early_stopping=True, random_state=cfg.random_state)\n",
    "\n",
    "cf = CausalForestDML(model_y=model_y, model_t=model_t, cv=cv_splitter)"
   ]
  },
  {
   "cell_type": "code",
   "execution_count": null,
   "id": "c8253aed-4e92-4b90-8e68-1eefe4fe1e4b",
   "metadata": {},
   "outputs": [],
   "source": [
    "cf = "
   ]
  },
  {
   "cell_type": "code",
   "execution_count": 40,
   "id": "c0a2bb85-20e1-4216-9759-96c42fc9db91",
   "metadata": {},
   "outputs": [
    {
     "ename": "ValueError",
     "evalue": "X has 117 features but this estimator was trained with 351 features.",
     "output_type": "error",
     "traceback": [
      "\u001b[1;31m---------------------------------------------------------------------------\u001b[0m",
      "\u001b[1;31mValueError\u001b[0m                                Traceback (most recent call last)",
      "\u001b[1;32m~\\AppData\\Local\\Temp/ipykernel_12256/2042178547.py\u001b[0m in \u001b[0;36m<module>\u001b[1;34m\u001b[0m\n\u001b[0;32m      1\u001b[0m \u001b[1;31m# print(r2_score())\u001b[0m\u001b[1;33m\u001b[0m\u001b[1;33m\u001b[0m\u001b[1;33m\u001b[0m\u001b[0m\n\u001b[1;32m----> 2\u001b[1;33m \u001b[0mdiag\u001b[0m\u001b[1;33m.\u001b[0m\u001b[0mpredict_y\u001b[0m\u001b[1;33m(\u001b[0m\u001b[0mX\u001b[0m\u001b[1;33m=\u001b[0m\u001b[0mX\u001b[0m\u001b[1;33m,\u001b[0m \u001b[0mW\u001b[0m\u001b[1;33m=\u001b[0m\u001b[0mpipe\u001b[0m\u001b[1;33m.\u001b[0m\u001b[0mtransform\u001b[0m\u001b[1;33m(\u001b[0m\u001b[0mW\u001b[0m\u001b[1;33m)\u001b[0m\u001b[1;33m)\u001b[0m\u001b[1;33m\u001b[0m\u001b[1;33m\u001b[0m\u001b[0m\n\u001b[0m",
      "\u001b[1;32mC:\\alem\\projects\\IZA-ML-for-policy\\src\\dmlutils.py\u001b[0m in \u001b[0;36mpredict_y\u001b[1;34m(self, W, X, predict_proba)\u001b[0m\n\u001b[0;32m     84\u001b[0m             \u001b[1;32melse\u001b[0m\u001b[1;33m:\u001b[0m\u001b[1;33m\u001b[0m\u001b[1;33m\u001b[0m\u001b[0m\n\u001b[0;32m     85\u001b[0m                 res.append(pd.DataFrame(\n\u001b[1;32m---> 86\u001b[1;33m                     \u001b[0mpred_func\u001b[0m\u001b[1;33m(\u001b[0m\u001b[0mself\u001b[0m\u001b[1;33m.\u001b[0m\u001b[0m_select\u001b[0m\u001b[1;33m(\u001b[0m\u001b[0mcontrols\u001b[0m\u001b[1;33m,\u001b[0m \u001b[0mtest\u001b[0m\u001b[1;33m)\u001b[0m\u001b[1;33m)\u001b[0m\u001b[1;33m,\u001b[0m\u001b[1;33m\u001b[0m\u001b[1;33m\u001b[0m\u001b[0m\n\u001b[0m\u001b[0;32m     87\u001b[0m                     columns=['y_pred'], index=test)\n\u001b[0;32m     88\u001b[0m                 )\n",
      "\u001b[1;32mc:\\alem\\projects\\iza-ml-for-policy\\.venv\\lib\\site-packages\\sklearn\\ensemble\\_hist_gradient_boosting\\gradient_boosting.py\u001b[0m in \u001b[0;36mpredict\u001b[1;34m(self, X)\u001b[0m\n\u001b[0;32m   1086\u001b[0m         \u001b[1;31m# Return inverse link of raw predictions after converting\u001b[0m\u001b[1;33m\u001b[0m\u001b[1;33m\u001b[0m\u001b[1;33m\u001b[0m\u001b[0m\n\u001b[0;32m   1087\u001b[0m         \u001b[1;31m# shape (n_samples, 1) to (n_samples,)\u001b[0m\u001b[1;33m\u001b[0m\u001b[1;33m\u001b[0m\u001b[1;33m\u001b[0m\u001b[0m\n\u001b[1;32m-> 1088\u001b[1;33m         \u001b[1;32mreturn\u001b[0m \u001b[0mself\u001b[0m\u001b[1;33m.\u001b[0m\u001b[0m_loss\u001b[0m\u001b[1;33m.\u001b[0m\u001b[0minverse_link_function\u001b[0m\u001b[1;33m(\u001b[0m\u001b[0mself\u001b[0m\u001b[1;33m.\u001b[0m\u001b[0m_raw_predict\u001b[0m\u001b[1;33m(\u001b[0m\u001b[0mX\u001b[0m\u001b[1;33m)\u001b[0m\u001b[1;33m.\u001b[0m\u001b[0mravel\u001b[0m\u001b[1;33m(\u001b[0m\u001b[1;33m)\u001b[0m\u001b[1;33m)\u001b[0m\u001b[1;33m\u001b[0m\u001b[1;33m\u001b[0m\u001b[0m\n\u001b[0m\u001b[0;32m   1089\u001b[0m \u001b[1;33m\u001b[0m\u001b[0m\n\u001b[0;32m   1090\u001b[0m     \u001b[1;32mdef\u001b[0m \u001b[0mstaged_predict\u001b[0m\u001b[1;33m(\u001b[0m\u001b[0mself\u001b[0m\u001b[1;33m,\u001b[0m \u001b[0mX\u001b[0m\u001b[1;33m)\u001b[0m\u001b[1;33m:\u001b[0m\u001b[1;33m\u001b[0m\u001b[1;33m\u001b[0m\u001b[0m\n",
      "\u001b[1;32mc:\\alem\\projects\\iza-ml-for-policy\\.venv\\lib\\site-packages\\sklearn\\ensemble\\_hist_gradient_boosting\\gradient_boosting.py\u001b[0m in \u001b[0;36m_raw_predict\u001b[1;34m(self, X)\u001b[0m\n\u001b[0;32m    740\u001b[0m             raise ValueError(\n\u001b[0;32m    741\u001b[0m                 \u001b[1;34m'X has {} features but this estimator was trained with '\u001b[0m\u001b[1;33m\u001b[0m\u001b[1;33m\u001b[0m\u001b[0m\n\u001b[1;32m--> 742\u001b[1;33m                 \u001b[1;34m'{} features.'\u001b[0m\u001b[1;33m.\u001b[0m\u001b[0mformat\u001b[0m\u001b[1;33m(\u001b[0m\u001b[0mX\u001b[0m\u001b[1;33m.\u001b[0m\u001b[0mshape\u001b[0m\u001b[1;33m[\u001b[0m\u001b[1;36m1\u001b[0m\u001b[1;33m]\u001b[0m\u001b[1;33m,\u001b[0m \u001b[0mself\u001b[0m\u001b[1;33m.\u001b[0m\u001b[0m_n_features\u001b[0m\u001b[1;33m)\u001b[0m\u001b[1;33m\u001b[0m\u001b[1;33m\u001b[0m\u001b[0m\n\u001b[0m\u001b[0;32m    743\u001b[0m             )\n\u001b[0;32m    744\u001b[0m         \u001b[0mn_samples\u001b[0m \u001b[1;33m=\u001b[0m \u001b[0mX\u001b[0m\u001b[1;33m.\u001b[0m\u001b[0mshape\u001b[0m\u001b[1;33m[\u001b[0m\u001b[1;36m0\u001b[0m\u001b[1;33m]\u001b[0m\u001b[1;33m\u001b[0m\u001b[1;33m\u001b[0m\u001b[0m\n",
      "\u001b[1;31mValueError\u001b[0m: X has 117 features but this estimator was trained with 351 features."
     ]
    }
   ],
   "source": [
    "# print(r2_score())\n",
    "diag.predict_y(X=X, W=pipe.transform(W))"
   ]
  },
  {
   "cell_type": "code",
   "execution_count": 54,
   "id": "437716f1-ca69-484e-8640-abac8fa7045e",
   "metadata": {},
   "outputs": [
    {
     "name": "stdout",
     "output_type": "stream",
     "text": [
      "0.08364475851550968\n"
     ]
    }
   ],
   "source": [
    "# diag.get_score_T(dml, r2_score, pipe.fit_transform(df_repl), T.str.split('_').str[0].astype(int))\n"
   ]
  },
  {
   "cell_type": "code",
   "execution_count": 8,
   "id": "ebe978ad-b075-43b8-920f-184557b3d00c",
   "metadata": {},
   "outputs": [
    {
     "ename": "NameError",
     "evalue": "name 'dml' is not defined",
     "output_type": "error",
     "traceback": [
      "\u001b[1;31m---------------------------------------------------------------------------\u001b[0m",
      "\u001b[1;31mNameError\u001b[0m                                 Traceback (most recent call last)",
      "\u001b[1;32m~\\AppData\\Local\\Temp/ipykernel_12256/1370653162.py\u001b[0m in \u001b[0;36m<module>\u001b[1;34m\u001b[0m\n\u001b[1;32m----> 1\u001b[1;33m \u001b[0mdml\u001b[0m\u001b[1;33m.\u001b[0m\u001b[0mmodel_final_\u001b[0m\u001b[1;33m.\u001b[0m\u001b[0m_var\u001b[0m\u001b[1;33m\u001b[0m\u001b[1;33m\u001b[0m\u001b[0m\n\u001b[0m\u001b[0;32m      2\u001b[0m \u001b[1;31m# dml.model_final_.coef_\u001b[0m\u001b[1;33m\u001b[0m\u001b[1;33m\u001b[0m\u001b[1;33m\u001b[0m\u001b[0m\n",
      "\u001b[1;31mNameError\u001b[0m: name 'dml' is not defined"
     ]
    }
   ],
   "source": [
    "dml.model_final_._var\n",
    "# dml.model_final_.coef_"
   ]
  },
  {
   "cell_type": "code",
   "execution_count": 37,
   "id": "13505047-4a03-4dd0-8a80-2a21597bf5e2",
   "metadata": {},
   "outputs": [],
   "source": [
    "from src.dmlutils import DML_diagnostics\n",
    "from sklearn.metrics import r2_score\n",
    "diag = DML_diagnostics(cv_splitter)"
   ]
  },
  {
   "cell_type": "code",
   "execution_count": 176,
   "id": "88be4ad5-385a-4aa8-a0b9-1b84f7b78e17",
   "metadata": {},
   "outputs": [
    {
     "data": {
      "text/plain": [
       "array(['suv_0', 'suv_1', 'weekend_0', 'weekend_1'], dtype=object)"
      ]
     },
     "execution_count": 176,
     "metadata": {},
     "output_type": "execute_result"
    }
   ],
   "source": [
    "from sklearn.preprocessing import OneHotEncoder\n",
    "test = df_repl[['suv', 'weekend']]\n",
    "\n",
    "enc = OneHotEncoder(sparse=False)\n",
    "enc.fit_transform(test)\n",
    "enc.get_feature_names(test.columns)"
   ]
  },
  {
   "cell_type": "code",
   "execution_count": 225,
   "id": "ae7ddfc5-2f04-4167-9f35-4d5b61cdf4e6",
   "metadata": {},
   "outputs": [
    {
     "name": "stdout",
     "output_type": "stream",
     "text": [
      "['year_1975' 'year_1976' 'year_1977' 'year_1978' 'year_1979' 'year_1980'\n",
      " 'year_1981' 'year_1982' 'year_1983' 'year_1984' 'year_1985' 'year_1986'\n",
      " 'year_1987' 'year_1988' 'year_1989' 'year_1990' 'year_1991' 'year_1992'\n",
      " 'year_1993' 'year_1994' 'year_1995' 'year_1996' 'year_1997' 'year_1998'\n",
      " 'year_1999' 'year_2000' 'year_2001' 'year_2002' 'year_2003' 'year_2004'\n",
      " 'year_2005' 'year_2006' 'year_2007' 'year_2008' 'year_2009'\n",
      " 'modelyr_1970.0' 'modelyr_1971.0' 'modelyr_1972.0' 'modelyr_1973.0'\n",
      " 'modelyr_1974.0' 'modelyr_1975.0' 'modelyr_1976.0' 'modelyr_1977.0'\n",
      " 'modelyr_1978.0' 'modelyr_1979.0' 'modelyr_1980.0' 'modelyr_1981.0'\n",
      " 'modelyr_1982.0' 'modelyr_1983.0' 'modelyr_1984.0' 'modelyr_1985.0'\n",
      " 'modelyr_1986.0' 'modelyr_1987.0' 'modelyr_1988.0' 'modelyr_1989.0'\n",
      " 'modelyr_1990.0' 'modelyr_1991.0' 'modelyr_1992.0' 'modelyr_1993.0'\n",
      " 'modelyr_1994.0' 'modelyr_1995.0' 'modelyr_1996.0' 'modelyr_1997.0'\n",
      " 'modelyr_1998.0' 'modelyr_1999.0' 'modelyr_2000.0' 'modelyr_2001.0'\n",
      " 'modelyr_2002.0' 'modelyr_2003.0' 'modelyr_2004.0' 'modelyr_2005.0'\n",
      " 'modelyr_other' 'crashtm_1_day' 'crashtm_2_night' 'crashtm_3_morn'] 75\n"
     ]
    },
    {
     "data": {
      "text/html": [
       "<div>\n",
       "<style scoped>\n",
       "    .dataframe tbody tr th:only-of-type {\n",
       "        vertical-align: middle;\n",
       "    }\n",
       "\n",
       "    .dataframe tbody tr th {\n",
       "        vertical-align: top;\n",
       "    }\n",
       "\n",
       "    .dataframe thead th {\n",
       "        text-align: right;\n",
       "    }\n",
       "</style>\n",
       "<table border=\"1\" class=\"dataframe\">\n",
       "  <thead>\n",
       "    <tr style=\"text-align: right;\">\n",
       "      <th></th>\n",
       "      <th>year_1975</th>\n",
       "      <th>year_1976</th>\n",
       "      <th>year_1977</th>\n",
       "      <th>year_1978</th>\n",
       "      <th>year_1979</th>\n",
       "      <th>year_1980</th>\n",
       "      <th>year_1981</th>\n",
       "      <th>year_1982</th>\n",
       "      <th>year_1983</th>\n",
       "      <th>year_1984</th>\n",
       "      <th>...</th>\n",
       "      <th>row1</th>\n",
       "      <th>backright</th>\n",
       "      <th>backleft</th>\n",
       "      <th>backother</th>\n",
       "      <th>male</th>\n",
       "      <th>missweight</th>\n",
       "      <th>drivebelt</th>\n",
       "      <th>splmU55</th>\n",
       "      <th>lowviol</th>\n",
       "      <th>highviol</th>\n",
       "    </tr>\n",
       "  </thead>\n",
       "  <tbody>\n",
       "    <tr>\n",
       "      <th>0</th>\n",
       "      <td>1.0</td>\n",
       "      <td>0.0</td>\n",
       "      <td>0.0</td>\n",
       "      <td>0.0</td>\n",
       "      <td>0.0</td>\n",
       "      <td>0.0</td>\n",
       "      <td>0.0</td>\n",
       "      <td>0.0</td>\n",
       "      <td>0.0</td>\n",
       "      <td>0.0</td>\n",
       "      <td>...</td>\n",
       "      <td>1</td>\n",
       "      <td>0</td>\n",
       "      <td>0</td>\n",
       "      <td>0</td>\n",
       "      <td>0.0</td>\n",
       "      <td>0</td>\n",
       "      <td>0</td>\n",
       "      <td>1.0</td>\n",
       "      <td>0.0</td>\n",
       "      <td>0.0</td>\n",
       "    </tr>\n",
       "    <tr>\n",
       "      <th>1</th>\n",
       "      <td>1.0</td>\n",
       "      <td>0.0</td>\n",
       "      <td>0.0</td>\n",
       "      <td>0.0</td>\n",
       "      <td>0.0</td>\n",
       "      <td>0.0</td>\n",
       "      <td>0.0</td>\n",
       "      <td>0.0</td>\n",
       "      <td>0.0</td>\n",
       "      <td>0.0</td>\n",
       "      <td>...</td>\n",
       "      <td>0</td>\n",
       "      <td>0</td>\n",
       "      <td>0</td>\n",
       "      <td>0</td>\n",
       "      <td>0.0</td>\n",
       "      <td>0</td>\n",
       "      <td>0</td>\n",
       "      <td>1.0</td>\n",
       "      <td>0.0</td>\n",
       "      <td>0.0</td>\n",
       "    </tr>\n",
       "    <tr>\n",
       "      <th>2</th>\n",
       "      <td>1.0</td>\n",
       "      <td>0.0</td>\n",
       "      <td>0.0</td>\n",
       "      <td>0.0</td>\n",
       "      <td>0.0</td>\n",
       "      <td>0.0</td>\n",
       "      <td>0.0</td>\n",
       "      <td>0.0</td>\n",
       "      <td>0.0</td>\n",
       "      <td>0.0</td>\n",
       "      <td>...</td>\n",
       "      <td>1</td>\n",
       "      <td>0</td>\n",
       "      <td>0</td>\n",
       "      <td>0</td>\n",
       "      <td>1.0</td>\n",
       "      <td>1</td>\n",
       "      <td>0</td>\n",
       "      <td>1.0</td>\n",
       "      <td>1.0</td>\n",
       "      <td>1.0</td>\n",
       "    </tr>\n",
       "    <tr>\n",
       "      <th>3</th>\n",
       "      <td>1.0</td>\n",
       "      <td>0.0</td>\n",
       "      <td>0.0</td>\n",
       "      <td>0.0</td>\n",
       "      <td>0.0</td>\n",
       "      <td>0.0</td>\n",
       "      <td>0.0</td>\n",
       "      <td>0.0</td>\n",
       "      <td>0.0</td>\n",
       "      <td>0.0</td>\n",
       "      <td>...</td>\n",
       "      <td>1</td>\n",
       "      <td>0</td>\n",
       "      <td>0</td>\n",
       "      <td>0</td>\n",
       "      <td>0.0</td>\n",
       "      <td>0</td>\n",
       "      <td>0</td>\n",
       "      <td>1.0</td>\n",
       "      <td>0.0</td>\n",
       "      <td>0.0</td>\n",
       "    </tr>\n",
       "    <tr>\n",
       "      <th>4</th>\n",
       "      <td>1.0</td>\n",
       "      <td>0.0</td>\n",
       "      <td>0.0</td>\n",
       "      <td>0.0</td>\n",
       "      <td>0.0</td>\n",
       "      <td>0.0</td>\n",
       "      <td>0.0</td>\n",
       "      <td>0.0</td>\n",
       "      <td>0.0</td>\n",
       "      <td>0.0</td>\n",
       "      <td>...</td>\n",
       "      <td>1</td>\n",
       "      <td>0</td>\n",
       "      <td>0</td>\n",
       "      <td>0</td>\n",
       "      <td>1.0</td>\n",
       "      <td>1</td>\n",
       "      <td>0</td>\n",
       "      <td>1.0</td>\n",
       "      <td>0.0</td>\n",
       "      <td>0.0</td>\n",
       "    </tr>\n",
       "    <tr>\n",
       "      <th>...</th>\n",
       "      <td>...</td>\n",
       "      <td>...</td>\n",
       "      <td>...</td>\n",
       "      <td>...</td>\n",
       "      <td>...</td>\n",
       "      <td>...</td>\n",
       "      <td>...</td>\n",
       "      <td>...</td>\n",
       "      <td>...</td>\n",
       "      <td>...</td>\n",
       "      <td>...</td>\n",
       "      <td>...</td>\n",
       "      <td>...</td>\n",
       "      <td>...</td>\n",
       "      <td>...</td>\n",
       "      <td>...</td>\n",
       "      <td>...</td>\n",
       "      <td>...</td>\n",
       "      <td>...</td>\n",
       "      <td>...</td>\n",
       "      <td>...</td>\n",
       "    </tr>\n",
       "    <tr>\n",
       "      <th>48197</th>\n",
       "      <td>0.0</td>\n",
       "      <td>0.0</td>\n",
       "      <td>0.0</td>\n",
       "      <td>0.0</td>\n",
       "      <td>0.0</td>\n",
       "      <td>0.0</td>\n",
       "      <td>0.0</td>\n",
       "      <td>0.0</td>\n",
       "      <td>0.0</td>\n",
       "      <td>0.0</td>\n",
       "      <td>...</td>\n",
       "      <td>0</td>\n",
       "      <td>1</td>\n",
       "      <td>0</td>\n",
       "      <td>0</td>\n",
       "      <td>1.0</td>\n",
       "      <td>0</td>\n",
       "      <td>1</td>\n",
       "      <td>1.0</td>\n",
       "      <td>0.0</td>\n",
       "      <td>0.0</td>\n",
       "    </tr>\n",
       "    <tr>\n",
       "      <th>48198</th>\n",
       "      <td>0.0</td>\n",
       "      <td>0.0</td>\n",
       "      <td>0.0</td>\n",
       "      <td>0.0</td>\n",
       "      <td>0.0</td>\n",
       "      <td>0.0</td>\n",
       "      <td>0.0</td>\n",
       "      <td>0.0</td>\n",
       "      <td>0.0</td>\n",
       "      <td>0.0</td>\n",
       "      <td>...</td>\n",
       "      <td>0</td>\n",
       "      <td>1</td>\n",
       "      <td>0</td>\n",
       "      <td>0</td>\n",
       "      <td>1.0</td>\n",
       "      <td>0</td>\n",
       "      <td>1</td>\n",
       "      <td>1.0</td>\n",
       "      <td>1.0</td>\n",
       "      <td>0.0</td>\n",
       "    </tr>\n",
       "    <tr>\n",
       "      <th>48199</th>\n",
       "      <td>0.0</td>\n",
       "      <td>0.0</td>\n",
       "      <td>0.0</td>\n",
       "      <td>0.0</td>\n",
       "      <td>0.0</td>\n",
       "      <td>0.0</td>\n",
       "      <td>0.0</td>\n",
       "      <td>0.0</td>\n",
       "      <td>0.0</td>\n",
       "      <td>0.0</td>\n",
       "      <td>...</td>\n",
       "      <td>0</td>\n",
       "      <td>1</td>\n",
       "      <td>0</td>\n",
       "      <td>0</td>\n",
       "      <td>0.0</td>\n",
       "      <td>0</td>\n",
       "      <td>1</td>\n",
       "      <td>1.0</td>\n",
       "      <td>0.0</td>\n",
       "      <td>0.0</td>\n",
       "    </tr>\n",
       "    <tr>\n",
       "      <th>48200</th>\n",
       "      <td>0.0</td>\n",
       "      <td>0.0</td>\n",
       "      <td>0.0</td>\n",
       "      <td>0.0</td>\n",
       "      <td>0.0</td>\n",
       "      <td>0.0</td>\n",
       "      <td>0.0</td>\n",
       "      <td>0.0</td>\n",
       "      <td>0.0</td>\n",
       "      <td>0.0</td>\n",
       "      <td>...</td>\n",
       "      <td>0</td>\n",
       "      <td>0</td>\n",
       "      <td>1</td>\n",
       "      <td>0</td>\n",
       "      <td>1.0</td>\n",
       "      <td>0</td>\n",
       "      <td>1</td>\n",
       "      <td>0.0</td>\n",
       "      <td>0.0</td>\n",
       "      <td>0.0</td>\n",
       "    </tr>\n",
       "    <tr>\n",
       "      <th>48201</th>\n",
       "      <td>0.0</td>\n",
       "      <td>0.0</td>\n",
       "      <td>0.0</td>\n",
       "      <td>0.0</td>\n",
       "      <td>0.0</td>\n",
       "      <td>0.0</td>\n",
       "      <td>0.0</td>\n",
       "      <td>0.0</td>\n",
       "      <td>0.0</td>\n",
       "      <td>0.0</td>\n",
       "      <td>...</td>\n",
       "      <td>0</td>\n",
       "      <td>0</td>\n",
       "      <td>0</td>\n",
       "      <td>0</td>\n",
       "      <td>0.0</td>\n",
       "      <td>0</td>\n",
       "      <td>1</td>\n",
       "      <td>0.0</td>\n",
       "      <td>1.0</td>\n",
       "      <td>0.0</td>\n",
       "    </tr>\n",
       "  </tbody>\n",
       "</table>\n",
       "<p>48202 rows × 97 columns</p>\n",
       "</div>"
      ],
      "text/plain": [
       "       year_1975  year_1976  year_1977  year_1978  year_1979  year_1980  \\\n",
       "0            1.0        0.0        0.0        0.0        0.0        0.0   \n",
       "1            1.0        0.0        0.0        0.0        0.0        0.0   \n",
       "2            1.0        0.0        0.0        0.0        0.0        0.0   \n",
       "3            1.0        0.0        0.0        0.0        0.0        0.0   \n",
       "4            1.0        0.0        0.0        0.0        0.0        0.0   \n",
       "...          ...        ...        ...        ...        ...        ...   \n",
       "48197        0.0        0.0        0.0        0.0        0.0        0.0   \n",
       "48198        0.0        0.0        0.0        0.0        0.0        0.0   \n",
       "48199        0.0        0.0        0.0        0.0        0.0        0.0   \n",
       "48200        0.0        0.0        0.0        0.0        0.0        0.0   \n",
       "48201        0.0        0.0        0.0        0.0        0.0        0.0   \n",
       "\n",
       "       year_1981  year_1982  year_1983  year_1984  ...  row1  backright  \\\n",
       "0            0.0        0.0        0.0        0.0  ...     1          0   \n",
       "1            0.0        0.0        0.0        0.0  ...     0          0   \n",
       "2            0.0        0.0        0.0        0.0  ...     1          0   \n",
       "3            0.0        0.0        0.0        0.0  ...     1          0   \n",
       "4            0.0        0.0        0.0        0.0  ...     1          0   \n",
       "...          ...        ...        ...        ...  ...   ...        ...   \n",
       "48197        0.0        0.0        0.0        0.0  ...     0          1   \n",
       "48198        0.0        0.0        0.0        0.0  ...     0          1   \n",
       "48199        0.0        0.0        0.0        0.0  ...     0          1   \n",
       "48200        0.0        0.0        0.0        0.0  ...     0          0   \n",
       "48201        0.0        0.0        0.0        0.0  ...     0          0   \n",
       "\n",
       "       backleft  backother  male  missweight  drivebelt  splmU55  lowviol  \\\n",
       "0             0          0   0.0           0          0      1.0      0.0   \n",
       "1             0          0   0.0           0          0      1.0      0.0   \n",
       "2             0          0   1.0           1          0      1.0      1.0   \n",
       "3             0          0   0.0           0          0      1.0      0.0   \n",
       "4             0          0   1.0           1          0      1.0      0.0   \n",
       "...         ...        ...   ...         ...        ...      ...      ...   \n",
       "48197         0          0   1.0           0          1      1.0      0.0   \n",
       "48198         0          0   1.0           0          1      1.0      1.0   \n",
       "48199         0          0   0.0           0          1      1.0      0.0   \n",
       "48200         1          0   1.0           0          1      0.0      0.0   \n",
       "48201         0          0   0.0           0          1      0.0      1.0   \n",
       "\n",
       "       highviol  \n",
       "0           0.0  \n",
       "1           0.0  \n",
       "2           1.0  \n",
       "3           0.0  \n",
       "4           0.0  \n",
       "...         ...  \n",
       "48197       0.0  \n",
       "48198       0.0  \n",
       "48199       0.0  \n",
       "48200       0.0  \n",
       "48201       0.0  \n",
       "\n",
       "[48202 rows x 97 columns]"
      ]
     },
     "execution_count": 225,
     "metadata": {},
     "output_type": "execute_result"
    }
   ],
   "source": [
    "pipe = ft.construct_data_pipeline(pd_output=True)\n",
    "pipe.fit_transform(df_repl)"
   ]
  },
  {
   "cell_type": "code",
   "execution_count": 190,
   "id": "9d2c8d3b-1cee-44b9-b552-1f30aeb76ba9",
   "metadata": {},
   "outputs": [
    {
     "data": {
      "text/html": [
       "<div>\n",
       "<style scoped>\n",
       "    .dataframe tbody tr th:only-of-type {\n",
       "        vertical-align: middle;\n",
       "    }\n",
       "\n",
       "    .dataframe tbody tr th {\n",
       "        vertical-align: top;\n",
       "    }\n",
       "\n",
       "    .dataframe thead th {\n",
       "        text-align: right;\n",
       "    }\n",
       "</style>\n",
       "<table border=\"1\" class=\"dataframe\">\n",
       "  <thead>\n",
       "    <tr style=\"text-align: right;\">\n",
       "      <th></th>\n",
       "      <th>suv_0</th>\n",
       "      <th>suv_1</th>\n",
       "      <th>weekend_0</th>\n",
       "      <th>weekend_1</th>\n",
       "    </tr>\n",
       "  </thead>\n",
       "  <tbody>\n",
       "    <tr>\n",
       "      <th>0</th>\n",
       "      <td>1.0</td>\n",
       "      <td>0.0</td>\n",
       "      <td>0.0</td>\n",
       "      <td>1.0</td>\n",
       "    </tr>\n",
       "    <tr>\n",
       "      <th>1</th>\n",
       "      <td>1.0</td>\n",
       "      <td>0.0</td>\n",
       "      <td>0.0</td>\n",
       "      <td>1.0</td>\n",
       "    </tr>\n",
       "    <tr>\n",
       "      <th>2</th>\n",
       "      <td>1.0</td>\n",
       "      <td>0.0</td>\n",
       "      <td>1.0</td>\n",
       "      <td>0.0</td>\n",
       "    </tr>\n",
       "    <tr>\n",
       "      <th>3</th>\n",
       "      <td>1.0</td>\n",
       "      <td>0.0</td>\n",
       "      <td>0.0</td>\n",
       "      <td>1.0</td>\n",
       "    </tr>\n",
       "    <tr>\n",
       "      <th>4</th>\n",
       "      <td>1.0</td>\n",
       "      <td>0.0</td>\n",
       "      <td>1.0</td>\n",
       "      <td>0.0</td>\n",
       "    </tr>\n",
       "    <tr>\n",
       "      <th>...</th>\n",
       "      <td>...</td>\n",
       "      <td>...</td>\n",
       "      <td>...</td>\n",
       "      <td>...</td>\n",
       "    </tr>\n",
       "    <tr>\n",
       "      <th>48197</th>\n",
       "      <td>0.0</td>\n",
       "      <td>1.0</td>\n",
       "      <td>0.0</td>\n",
       "      <td>1.0</td>\n",
       "    </tr>\n",
       "    <tr>\n",
       "      <th>48198</th>\n",
       "      <td>1.0</td>\n",
       "      <td>0.0</td>\n",
       "      <td>1.0</td>\n",
       "      <td>0.0</td>\n",
       "    </tr>\n",
       "    <tr>\n",
       "      <th>48199</th>\n",
       "      <td>1.0</td>\n",
       "      <td>0.0</td>\n",
       "      <td>1.0</td>\n",
       "      <td>0.0</td>\n",
       "    </tr>\n",
       "    <tr>\n",
       "      <th>48200</th>\n",
       "      <td>1.0</td>\n",
       "      <td>0.0</td>\n",
       "      <td>1.0</td>\n",
       "      <td>0.0</td>\n",
       "    </tr>\n",
       "    <tr>\n",
       "      <th>48201</th>\n",
       "      <td>0.0</td>\n",
       "      <td>1.0</td>\n",
       "      <td>1.0</td>\n",
       "      <td>0.0</td>\n",
       "    </tr>\n",
       "  </tbody>\n",
       "</table>\n",
       "<p>48202 rows × 4 columns</p>\n",
       "</div>"
      ],
      "text/plain": [
       "       suv_0  suv_1  weekend_0  weekend_1\n",
       "0        1.0    0.0        0.0        1.0\n",
       "1        1.0    0.0        0.0        1.0\n",
       "2        1.0    0.0        1.0        0.0\n",
       "3        1.0    0.0        0.0        1.0\n",
       "4        1.0    0.0        1.0        0.0\n",
       "...      ...    ...        ...        ...\n",
       "48197    0.0    1.0        0.0        1.0\n",
       "48198    1.0    0.0        1.0        0.0\n",
       "48199    1.0    0.0        1.0        0.0\n",
       "48200    1.0    0.0        1.0        0.0\n",
       "48201    0.0    1.0        1.0        0.0\n",
       "\n",
       "[48202 rows x 4 columns]"
      ]
     },
     "execution_count": 190,
     "metadata": {},
     "output_type": "execute_result"
    }
   ],
   "source": [
    "import src.features as ft\n",
    "hot = ft.OneHotPd(handle_unknown='ignore', sparse=False)\n",
    "hot.fit_transform(test)"
   ]
  },
  {
   "cell_type": "code",
   "execution_count": 168,
   "id": "a98f4d97-fc48-4378-97d3-9539101a6b93",
   "metadata": {},
   "outputs": [
    {
     "data": {
      "text/html": [
       "<div>\n",
       "<style scoped>\n",
       "    .dataframe tbody tr th:only-of-type {\n",
       "        vertical-align: middle;\n",
       "    }\n",
       "\n",
       "    .dataframe tbody tr th {\n",
       "        vertical-align: top;\n",
       "    }\n",
       "\n",
       "    .dataframe thead th {\n",
       "        text-align: right;\n",
       "    }\n",
       "</style>\n",
       "<table border=\"1\" class=\"dataframe\">\n",
       "  <thead>\n",
       "    <tr style=\"text-align: right;\">\n",
       "      <th></th>\n",
       "      <th>suv</th>\n",
       "      <th>weekend</th>\n",
       "      <th>modelyr</th>\n",
       "    </tr>\n",
       "  </thead>\n",
       "  <tbody>\n",
       "    <tr>\n",
       "      <th>0</th>\n",
       "      <td>0</td>\n",
       "      <td>1</td>\n",
       "      <td>1975.0</td>\n",
       "    </tr>\n",
       "    <tr>\n",
       "      <th>2</th>\n",
       "      <td>0</td>\n",
       "      <td>1</td>\n",
       "      <td>1970.0</td>\n",
       "    </tr>\n",
       "    <tr>\n",
       "      <th>3</th>\n",
       "      <td>0</td>\n",
       "      <td>0</td>\n",
       "      <td>1971.0</td>\n",
       "    </tr>\n",
       "    <tr>\n",
       "      <th>4</th>\n",
       "      <td>0</td>\n",
       "      <td>1</td>\n",
       "      <td>1970.0</td>\n",
       "    </tr>\n",
       "    <tr>\n",
       "      <th>5</th>\n",
       "      <td>0</td>\n",
       "      <td>0</td>\n",
       "      <td>1973.0</td>\n",
       "    </tr>\n",
       "    <tr>\n",
       "      <th>...</th>\n",
       "      <td>...</td>\n",
       "      <td>...</td>\n",
       "      <td>...</td>\n",
       "    </tr>\n",
       "    <tr>\n",
       "      <th>53655</th>\n",
       "      <td>1</td>\n",
       "      <td>1</td>\n",
       "      <td>2005.0</td>\n",
       "    </tr>\n",
       "    <tr>\n",
       "      <th>53656</th>\n",
       "      <td>0</td>\n",
       "      <td>0</td>\n",
       "      <td>1996.0</td>\n",
       "    </tr>\n",
       "    <tr>\n",
       "      <th>53658</th>\n",
       "      <td>0</td>\n",
       "      <td>0</td>\n",
       "      <td>2005.0</td>\n",
       "    </tr>\n",
       "    <tr>\n",
       "      <th>53662</th>\n",
       "      <td>0</td>\n",
       "      <td>0</td>\n",
       "      <td>1999.0</td>\n",
       "    </tr>\n",
       "    <tr>\n",
       "      <th>53663</th>\n",
       "      <td>1</td>\n",
       "      <td>0</td>\n",
       "      <td>1996.0</td>\n",
       "    </tr>\n",
       "  </tbody>\n",
       "</table>\n",
       "<p>48202 rows × 3 columns</p>\n",
       "</div>"
      ],
      "text/plain": [
       "       suv  weekend modelyr\n",
       "0        0        1  1975.0\n",
       "2        0        1  1970.0\n",
       "3        0        0  1971.0\n",
       "4        0        1  1970.0\n",
       "5        0        0  1973.0\n",
       "...    ...      ...     ...\n",
       "53655    1        1  2005.0\n",
       "53656    0        0  1996.0\n",
       "53658    0        0  2005.0\n",
       "53662    0        0  1999.0\n",
       "53663    1        0  1996.0\n",
       "\n",
       "[48202 rows x 3 columns]"
      ]
     },
     "execution_count": 168,
     "metadata": {},
     "output_type": "execute_result"
    }
   ],
   "source": [
    "test = df_repl[['suv', 'weekend', 'modelyr']]\n",
    "recode = {}\n",
    "for feat in test.columns:\n",
    "    to_aggr = test[feat].value_counts()/test.shape[0] <= 0.01\n",
    "    if to_aggr.sum()>0:\n",
    "        recode[feat] = {val: 'other' if aggr else str(val) for val, aggr in dict(to_aggr).items()}\n",
    "test.apply(lambda x: x.map(recode[x.name]) if x.name in recode.keys() else x)"
   ]
  },
  {
   "cell_type": "code",
   "execution_count": 35,
   "id": "54a84a50-6c6f-4554-8eaf-ea5395c4028a",
   "metadata": {},
   "outputs": [],
   "source": [
    "from sklearn.linear_model import LinearRegression\n",
    "controls = [item for typ in ft.feat_type.values() for item in typ]\n",
    "\n",
    "results = []\n",
    "pipe = ft.construct_data_pipeline(pd_output=True)\n",
    "for feat in [col for col in controls if col in df_repl]: \n",
    "    dt = pipe.fit_transform(df_repl[[feat]])\n",
    "    mdl = LinearRegression().fit(dt, y)\n",
    "    results.append([feat, r2_score(y, mdl.predict(dt))])\n",
    "ordered_features = pd.DataFrame(results, columns=['feature', 'r2']).sort_values('r2', ascending=False)['feature'].to_list()"
   ]
  }
 ],
 "metadata": {
  "kernelspec": {
   "display_name": "Python 3 (ipykernel)",
   "language": "python",
   "name": "python3"
  },
  "language_info": {
   "codemirror_mode": {
    "name": "ipython",
    "version": 3
   },
   "file_extension": ".py",
   "mimetype": "text/x-python",
   "name": "python",
   "nbconvert_exporter": "python",
   "pygments_lexer": "ipython3",
   "version": "3.7.2"
  }
 },
 "nbformat": 4,
 "nbformat_minor": 5
}
